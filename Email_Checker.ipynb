{
 "cells": [
  {
   "cell_type": "markdown",
   "metadata": {},
   "source": [
    "Fast Email Checking\n",
    "==============\n",
    "This notebook connects to an **Outlook** account using MAPI and downloads all available emails and stores them into a dictionary. From this point that dictionary can be used for whatever purposes from reading the emails to using NLTK to see what the most common words/phrases are."
   ]
  },
  {
   "cell_type": "markdown",
   "metadata": {},
   "source": [
    "**Connect to Outlook**"
   ]
  },
  {
   "cell_type": "code",
   "execution_count": null,
   "metadata": {},
   "outputs": [],
   "source": [
    "import win32com.client\n",
    "import re"
   ]
  },
  {
   "cell_type": "code",
   "execution_count": 142,
   "metadata": {},
   "outputs": [],
   "source": [
    "#https://stackoverflow.com/questions/5077625/reading-e-mails-from-outlook-with-python-through-mapi\n",
    "#https://stackoverflow.com/questions/5077625/reading-e-mails-from-outlook-with-python-through-mapi\n",
    "outlook = win32com.client.Dispatch(\"Outlook.Application\").GetNamespace(\"MAPI\")\n",
    "\n",
    "inbox = outlook.GetDefaultFolder(6) # \"6\" refers to the index of a folder - in this case,\n",
    "                                    # the inbox. You can change that number to reference\n",
    "                                    # any other folder\n",
    "messages = inbox.Items\n",
    "message = messages.GetFirst()#gets the first message"
   ]
  },
  {
   "cell_type": "markdown",
   "metadata": {},
   "source": [
    "*Import email and print it out*"
   ]
  },
  {
   "cell_type": "code",
   "execution_count": 143,
   "metadata": {},
   "outputs": [
    {
     "name": "stdout",
     "output_type": "stream",
     "text": [
      "Hey,\r\n",
      "\r\n",
      "Looking for a coding bootcamp? Try using our HYPERLINK \"http://e.customeriomail.com/e/c/eyJlbWFpbF9pZCI6IlJKc1VBQUFCYUlLZjdlczNyZmtRUURBWFZFY1AiLCJocmVmIjoiaHR0cHM6Ly93d3cudGhpbmtmdWwuY29tL2Jvb3RjYW1wcy9maW5kLW15LWJvb3RjYW1wP3V0bV9zb3VyY2U9dGZfc2lnbnVwXHUwMDI2dXRtX21lZGl1bT1lbWFpbFx1MDAyNnV0bV9jb250ZW50PTAxX2JmXHUwMDI2dXRtX2NhbXBhaWduPXRmX2JmXHUwMDI2dXNlcl9oYXNfaWQ9Y0dsbGRHVnlMbXhsWm1abGNuTkFiM1YwYkc5dmF5NWpiMjAlM0QiLCJsaW5rX2lkIjo4MDA4MTA1OCwicG9zaXRpb24iOjB9/4b9c8912fe6463968bc618987aa237371a53c75a047d81eddd7f73a6732d0879\"Matcher, which gives you a list of coding bootcamps that fit your needs. Once you get that list, you can dive deeper into your options.\r\n",
      "\r\n",
      "At HYPERLINK \"http://e.customeriomail.com/e/c/eyJlbWFpbF9pZCI6IlJKc1VBQUFCYUlLZjdlczNyZmtRUURBWFZFY1AiLCJocmVmIjoiaHR0cDovL3d3dy50aGlua2Z1bC5jb20vYm9vdGNhbXBzLz91dG1fc291cmNlPXRmX3NpZ251cFx1MDAyNnV0bV9tZWRpdW09ZW1haWxcdTAwMjZ1dG1fY29udGVudD0wMV9iZlx1MDAyNnV0bV9jYW1wYWlnbj10Zl9iZlx1MDAyNnVzZXJfaGFzX2lkPWNHbGxkR1Z5TG14bFptWmxjbk5BYjNWMGJHOXZheTVqYjIwJTNEIiwibGlua19pZCI6ODAwODEwNTksInBvc2l0aW9uIjoxfQ/c2833ae5f77d03ea19f1e867ff8a27eafad4ab821063963e4c5f56add25220c4\"Bootcamp Finder you can: \r\n",
      "\r\n",
      "\r\n",
      "Compare any two bootcamps' cost, teaching style, financial aid options, and more\r\n",
      "Open a dialogue with a graduate from a particular bootcamp - just click 'Ask a question' on any school's page\r\n",
      "Read reviews and answers from over 800 graduates, with more submitted every week\r\n",
      "\r\n",
      "Also, what do you think is missing from Bootcamp Finder? We're continually pushing ourselves to build the best possible resource for students researching bootcamps. Hit reply to let us know.\r\n",
      "\r\n",
      "Best of luck in your hunt and happy coding.\r\n",
      "- Team @ Bootcamp Finder\r\n",
      "\r\n",
      "\r\n",
      "\r\n",
      "\r\n",
      "--\r\n",
      "Is your inbox overflowing? You can HYPERLINK \"http://e.customeriomail.com/e/c/eyJlbWFpbF9pZCI6IlJKc1VBQUFCYUlLZjdlczNyZmtRUURBWFZFY1AiLCJocmVmIjoiaHR0cDovL2UuY3VzdG9tZXJpb21haWwuY29tL3Vuc3Vic2NyaWJlL1JKc1VBQUFCYUlLZjdlczNyZmtRUURBWFZFY1AiLCJsaW5rX2lkIjoxNDg4NjIsInBvc2l0aW9uIjoyfQ/c370a52812aa81e14fbe5cfc1d7adcacdd2d466e15b7c4f1f2a588ad364ddac9\"unsubscribe at any time. \r\n",
      "\r\n",
      " http://e.customeriomail.com/e/o/eyJlbWFpbF9pZCI6IlJKc1VBQUFCYUlLZjdlczNyZmtRUURBWFZFY1AifQ==\n"
     ]
    }
   ],
   "source": [
    "body_content = message.body\n",
    "print(body_content)"
   ]
  },
  {
   "cell_type": "markdown",
   "metadata": {},
   "source": [
    "*Go to next email...*"
   ]
  },
  {
   "cell_type": "code",
   "execution_count": 72,
   "metadata": {},
   "outputs": [
    {
     "name": "stdout",
     "output_type": "stream",
     "text": [
      "HYPERLINK \"https://www.linkedin.com/comm/feed/?midToken=AQFFicexVScBJw&trk=eml-email_type_messaging_digest-header-15-home&trkEmail=eml-email_type_messaging_digest-header-15-home-null-3oi81s%7Ejr801zib%7Eyt-null-neptune%2Ffeed&lipi=urn%3Ali%3Apage%3Aemail_email_type_messaging_digest%3BJ%2FV1j5PlSry4KOh8HtOIEg%3D%3D\"LinkedIn\t HYPERLINK \"https://www.linkedin.com/comm/in/pmleffers?midToken=AQFFicexVScBJw&trk=eml-email_type_messaging_digest-header-23-profile&trkEmail=eml-email_type_messaging_digest-header-23-profile-null-3oi81s%7Ejr801zib%7Eyt-null-neptune%2Fprofile%7Evanity%2Eview&lipi=urn%3Ali%3Apage%3Aemail_email_type_messaging_digest%3BJ%2FV1j5PlSry4KOh8HtOIEg%3D%3D\"Pieter Leffers\t https://www.linkedin.com/comm/in/pmleffers?midToken=AQFFicexVScBJw&trk=eml-email_type_messaging_digest-header-23-profile&trkEmail=eml-email_type_messaging_digest-header-23-profile-null-3oi81s%7Ejr801zib%7Eyt-null-neptune%2Fprofile%7Evanity%2Eview&lipi=urn%3Ali%3Apage%3Aemail_email_type_messaging_digest%3BJ%2FV1j5PlSry4KOh8HtOIEg%3D%3D\t  \t \r\n",
      "  \r\n",
      "You have 1 new message\r\n",
      "\r\n",
      "  \r\n",
      "Get the full messaging experience on LinkedIn\r\n",
      "\r\n",
      "  \r\n",
      "  \r\n",
      "HYPERLINK \"https://www.linkedin.com/comm/in/barnwalamit?trk=eml-msg_digest-body-view_profile&midToken=AQFFicexVScBJw&trkEmail=eml-email_type_messaging_digest-null-4-null-null-3oi81s%7Ejr801zib%7Eyt-null-neptune%2Fprofile%7Evanity%2Eview&lipi=urn%3Ali%3Apage%3Aemail_email_type_messaging_digest%3BJ%2FV1j5PlSry4KOh8HtOIEg%3D%3D\"Amit Barnwal\t \r\n",
      "  \r\n",
      "HYPERLINK \"https://www.linkedin.com/comm/in/barnwalamit?trk=eml-msg_digest-body-view_profile&midToken=AQFFicexVScBJw&trkEmail=eml-email_type_messaging_digest-null-4-null-null-3oi81s%7Ejr801zib%7Eyt-null-neptune%2Fprofile%7Evanity%2Eview&lipi=urn%3Ali%3Apage%3Aemail_email_type_messaging_digest%3BJ%2FV1j5PlSry4KOh8HtOIEg%3D%3D\"Amit Barnwal\t \r\n",
      "  \r\n",
      "Technical Recruiter\r\n",
      "\r\n",
      "  \r\n",
      "  \r\n",
      "HYPERLINK \"https://www.linkedin.com/comm/messaging/thread/6492122367005941760/?trk=eml-msg_digest-body-reply_to_sender&midToken=AQFFicexVScBJw&trkEmail=eml-email_type_messaging_digest-null-2-null-null-3oi81s%7Ejr801zib%7Eyt-null-neptune%2Fmessaging%2Ethread&lipi=urn%3Ali%3Apage%3Aemail_email_type_messaging_digest%3BJ%2FV1j5PlSry4KOh8HtOIEg%3D%3D\"View message \r\n",
      "  \r\n",
      "HYPERLINK \"https://www.linkedin.com/comm/messaging/thread/6492122367005941760/?trk=eml-msg_digest-body-reply_to_sender&midToken=AQFFicexVScBJw&trkEmail=eml-email_type_messaging_digest-null-2-null-null-3oi81s%7Ejr801zib%7Eyt-null-neptune%2Fmessaging%2Ethread&lipi=urn%3Ali%3Apage%3Aemail_email_type_messaging_digest%3BJ%2FV1j5PlSry4KOh8HtOIEg%3D%3D\"View message \r\n",
      "  \r\n",
      " HYPERLINK \"https://static.licdn.com/scds/common/u/images/email/phoenix/icons/icon_phoenix_phone_112x112_v1.png\"mobile phone image\tNever miss another message. Get the LinkedIn app.\t \r\n",
      "HYPERLINK \"https://www.linkedin.com/e/v2?e=3oi81s-jr801zib-yt&lipi=urn%3Ali%3Apage%3Aemail_email_type_messaging_digest%3BJ%2FV1j5PlSry4KOh8HtOIEg%3D%3D&t=plh&midToken=AQFFicexVScBJw&tracking=eml-mobile_web_browse-download_iphone&ek=email_type_messaging_digest&urlhash=JaUP&url=http%3A%2F%2Fitunes%2Eapple%2Ecom%2Fapp%2Flinkedin%2Fid288429040%3Fmt%3D8\"iOS . HYPERLINK \"https://www.linkedin.com/e/v2?e=3oi81s-jr801zib-yt&lipi=urn%3Ali%3Apage%3Aemail_email_type_messaging_digest%3BJ%2FV1j5PlSry4KOh8HtOIEg%3D%3D&t=plh&midToken=AQFFicexVScBJw&tracking=eml-mobile_web_browse-download_android&ek=email_type_messaging_digest&urlhash=m8dM&url=https%3A%2F%2Fplay%2Egoogle%2Ecom%2Fstore%2Fapps%2Fdetails%3Fid%3Dcom%2Elinkedin%2Eandroid\"Android\t \r\n",
      "HYPERLINK \"https://www.linkedin.com/e/v2?e=3oi81s-jr801zib-yt&t=lun&midToken=AQFFicexVScBJw&ek=email_type_messaging_digest&li=20&m=unsub&ts=unsub&loid=AQHin6ICiN1z6gAAAWh2fArMXfe9RVbrSeLQ9MVD8Y2fp7exg-O9Xnu0tAzMDSGAR7ffXnjKKwodin0FMZ8ywqwARbxjMyWGCzi-VIFp&eid=3oi81s-jr801zib-yt\"Unsubscribe  |  HYPERLINK \"https://www.linkedin.com/e/v2?e=3oi81s-jr801zib-yt&lipi=urn%3Ali%3Apage%3Aemail_email_type_messaging_digest%3BJ%2FV1j5PlSry4KOh8HtOIEg%3D%3D&a=customerServiceUrl&midToken=AQFFicexVScBJw&ek=email_type_messaging_digest&li=19&m=footer&ts=help&articleId=67\" Help\t \r\n",
      "You are receiving Messages from connections digest emails.\r\n",
      "\r\n",
      "This email was intended for Pieter Leffers (Data Scientist at RocketML). HYPERLINK \"https://www.linkedin.com/e/v2?e=3oi81s-jr801zib-yt&lipi=urn%3Ali%3Apage%3Aemail_email_type_messaging_digest%3BJ%2FV1j5PlSry4KOh8HtOIEg%3D%3D&a=customerServiceUrl&midToken=AQFFicexVScBJw&ek=email_type_messaging_digest&articleId=4788\"Learn why we included this.\r\n",
      "\r\n",
      "HYPERLINK \"https://www.linkedin.com/comm/feed/?midToken=AQFFicexVScBJw&trk=eml-email_type_messaging_digest-footer-17-home&trkEmail=eml-email_type_messaging_digest-footer-17-home-null-3oi81s%7Ejr801zib%7Eyt-null-neptune%2Ffeed&lipi=urn%3Ali%3Apage%3Aemail_email_type_messaging_digest%3BJ%2FV1j5PlSry4KOh8HtOIEg%3D%3D\"LinkedIn\t \r\n",
      "© 2019 LinkedIn Corporation, 1000 West Maude Avenue, Sunnyvale, CA 94085. LinkedIn and the LinkedIn logo are registered trademarks of LinkedIn.\r\n",
      "\r\n",
      " http://www.linkedin.com/emimp/ip_TTI5cE9ERnpMV3B5T0RBeGVtbGlMWGwwOlpXMWhhV3hmZEhsd1pWOXRaWE56WVdkcGJtZGZaR2xuWlhOMDo=.gif\n"
     ]
    }
   ],
   "source": [
    "message = messages.GetNext()#gets the next message\n",
    "body_content = message.body\n",
    "print(body_content)"
   ]
  },
  {
   "cell_type": "code",
   "execution_count": 100,
   "metadata": {},
   "outputs": [],
   "source": [
    "email1=body_content\n",
    "email1=email1.lower()#make everything lowercase\n",
    "email1=email1.split()#split email into chunks of strings"
   ]
  },
  {
   "cell_type": "code",
   "execution_count": 101,
   "metadata": {},
   "outputs": [],
   "source": [
    "def scrubadub(variable):\n",
    "    myList=(list(variable))\n",
    "    clean=[]\n",
    "    for i in range(0,len(myList)):\n",
    "        #Regular expressions for removing web addresses\n",
    "        url_reg  = r'[a-z]*[:.]+\\S+'\n",
    "        #and replacing with nothing\n",
    "        url_text=re.sub(url_reg, '', myList[i])\n",
    "        sep = \" \"\n",
    "        junk = re.findall(r\"(?i)\\b[a-z]+\\b\", url_text)\n",
    "        #join the seperated words\n",
    "        junk = sep.join(junk)\n",
    "        #remove _s_ spaces from text after punctuation removal\n",
    "        S_space = re.sub(r' s ','',junk)\n",
    "        clean.append(S_space)\n",
    "    return clean"
   ]
  },
  {
   "cell_type": "code",
   "execution_count": 103,
   "metadata": {},
   "outputs": [
    {
     "data": {
      "text/plain": [
       "['hyperlink',\n",
       " '',\n",
       " 'hyperlink',\n",
       " '',\n",
       " 'leffers',\n",
       " '',\n",
       " 'you',\n",
       " 'have',\n",
       " '',\n",
       " 'new',\n",
       " 'message',\n",
       " 'get',\n",
       " 'the',\n",
       " 'full',\n",
       " 'messaging',\n",
       " 'experience',\n",
       " 'on',\n",
       " 'linkedin',\n",
       " 'hyperlink',\n",
       " '',\n",
       " 'barnwal',\n",
       " 'hyperlink',\n",
       " '',\n",
       " 'barnwal',\n",
       " 'technical',\n",
       " 'recruiter',\n",
       " 'hyperlink',\n",
       " '',\n",
       " 'message',\n",
       " 'hyperlink',\n",
       " '',\n",
       " 'message',\n",
       " 'hyperlink',\n",
       " '',\n",
       " 'phone',\n",
       " 'image',\n",
       " 'never',\n",
       " 'miss',\n",
       " 'another',\n",
       " 'message',\n",
       " 'get',\n",
       " 'the',\n",
       " 'linkedin',\n",
       " 'app',\n",
       " 'hyperlink',\n",
       " '',\n",
       " '',\n",
       " 'hyperlink',\n",
       " '',\n",
       " 'hyperlink',\n",
       " '',\n",
       " '',\n",
       " 'hyperlink',\n",
       " '',\n",
       " 'help',\n",
       " 'you',\n",
       " 'are',\n",
       " 'receiving',\n",
       " 'messages',\n",
       " 'from',\n",
       " 'connections',\n",
       " 'digest',\n",
       " 'emails',\n",
       " 'this',\n",
       " 'email',\n",
       " 'was',\n",
       " 'intended',\n",
       " 'for',\n",
       " 'pieter',\n",
       " 'leffers',\n",
       " 'data',\n",
       " 'scientist',\n",
       " 'at',\n",
       " 'rocketml',\n",
       " 'hyperlink',\n",
       " '',\n",
       " 'why',\n",
       " 'we',\n",
       " 'included',\n",
       " 'this',\n",
       " 'hyperlink',\n",
       " '',\n",
       " '',\n",
       " '',\n",
       " 'linkedin',\n",
       " 'corporation',\n",
       " '',\n",
       " 'west',\n",
       " 'maude',\n",
       " 'avenue',\n",
       " 'sunnyvale',\n",
       " 'ca',\n",
       " '',\n",
       " 'linkedin',\n",
       " 'and',\n",
       " 'the',\n",
       " 'linkedin',\n",
       " 'logo',\n",
       " 'are',\n",
       " 'registered',\n",
       " 'trademarks',\n",
       " 'of',\n",
       " 'linkedin',\n",
       " '']"
      ]
     },
     "execution_count": 103,
     "metadata": {},
     "output_type": "execute_result"
    }
   ],
   "source": [
    "scrubadub(email1)"
   ]
  },
  {
   "cell_type": "markdown",
   "metadata": {},
   "source": [
    "**Get ALL emails into list**"
   ]
  },
  {
   "cell_type": "code",
   "execution_count": 137,
   "metadata": {},
   "outputs": [
    {
     "name": "stdout",
     "output_type": "stream",
     "text": [
      "Number of messages:  279\n",
      "All messages downloaded into dict!\n"
     ]
    }
   ],
   "source": [
    "EmailDict={}\n",
    "TurnOffWhileLoop=[]\n",
    "counter=0\n",
    "\n",
    "outlook = win32com.client.Dispatch(\"Outlook.Application\").GetNamespace(\"MAPI\")\n",
    "inbox = outlook.GetDefaultFolder(6)\n",
    "messages = inbox.Items\n",
    "message = messages.GetFirst()#Start at the first message\n",
    "\n",
    "print('Number of messages: ',len(messages))\n",
    "while counter<=len(messages):\n",
    "    counter+=1\n",
    "    try:\n",
    "        body_content = str(message.body)\n",
    "        EmailDict[\"Message_Num_\"+str(counter)]=str(body_content)\n",
    "        message = messages.GetNext()\n",
    "    except:\n",
    "        print('All messages downloaded into dict!')\n",
    "        break\n",
    "    \n",
    "    \n",
    "    \n",
    "    "
   ]
  },
  {
   "cell_type": "code",
   "execution_count": null,
   "metadata": {},
   "outputs": [],
   "source": []
  }
 ],
 "metadata": {
  "kernelspec": {
   "display_name": "Python 3",
   "language": "python",
   "name": "python3"
  },
  "language_info": {
   "codemirror_mode": {
    "name": "ipython",
    "version": 3
   },
   "file_extension": ".py",
   "mimetype": "text/x-python",
   "name": "python",
   "nbconvert_exporter": "python",
   "pygments_lexer": "ipython3",
   "version": "3.6.5"
  }
 },
 "nbformat": 4,
 "nbformat_minor": 2
}
