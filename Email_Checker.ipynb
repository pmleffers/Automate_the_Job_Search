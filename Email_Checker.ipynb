{
 "cells": [
  {
   "cell_type": "markdown",
   "metadata": {},
   "source": [
    "**Connect to Outlook**"
   ]
  },
  {
   "cell_type": "code",
   "execution_count": null,
   "metadata": {},
   "outputs": [],
   "source": [
    "import win32com.client\n",
    "import re"
   ]
  },
  {
   "cell_type": "code",
   "execution_count": 7,
   "metadata": {},
   "outputs": [],
   "source": [
    "#https://stackoverflow.com/questions/5077625/reading-e-mails-from-outlook-with-python-through-mapi\n",
    "#https://stackoverflow.com/questions/5077625/reading-e-mails-from-outlook-with-python-through-mapi\n",
    "outlook = win32com.client.Dispatch(\"Outlook.Application\").GetNamespace(\"MAPI\")\n",
    "\n",
    "inbox = outlook.GetDefaultFolder(6) # \"6\" refers to the index of a folder - in this case,\n",
    "                                    # the inbox. You can change that number to reference\n",
    "                                    # any other folder\n",
    "messages = inbox.Items\n",
    "message = messages.GetFirst()#gets the first message"
   ]
  },
  {
   "cell_type": "markdown",
   "metadata": {},
   "source": [
    "*Import email and print it out*"
   ]
  },
  {
   "cell_type": "code",
   "execution_count": 27,
   "metadata": {},
   "outputs": [
    {
     "name": "stdout",
     "output_type": "stream",
     "text": [
      "See how you stacked up!\r\n",
      " ‌ ‌ ‌ ‌ ‌ ‌ ‌ ‌ ‌ ‌ ‌ ‌ ‌ ‌ ‌ ‌ ‌ ‌ ‌ ‌ ‌ ‌ ‌ ‌ ‌ ‌ ‌ ‌ ‌ ‌ ‌ ‌ ‌ ‌ ‌ ‌ ‌ ‌ ‌ ‌ ‌ ‌ ‌ ‌ ‌ ‌ ‌ ‌ ‌ ‌ ‌ ‌ ‌ ‌ ‌ ‌ ‌ ‌ ‌ ‌ ‌ ‌ ‌ ‌ ‌ ‌ ‌ ‌ ‌ ‌ ‌ ‌ ‌ ‌ ‌ ‌ ‌ ‌ ‌ ‌ ‌ ‌ ‌ ‌ ‌ ‌ ‌ ‌ ‌ ‌ ‌ ‌ ‌ ‌ ‌ ‌ ‌ ‌ ‌ ‌ ‌ ‌ ‌ ‌ ‌ ‌ ‌ ‌ ‌ ‌ ‌ ‌ ‌ ‌ ‌ ‌ ‌ ‌ ‌ ‌ ‌ ‌ ‌ ‌ ‌ ‌ ‌ ‌ ‌ ‌ ‌ ‌ ‌ ‌ ‌ ‌ ‌ ‌ ‌ ‌ ‌ ‌ ‌ ‌ ‌ ‌ ‌ ‌ ‌ ‌ ‌ ‌ ‌ ‌ ‌ ‌ ‌ ‌ ‌ ‌ ‌ ‌ ‌ ‌ ‌ ‌ ‌ ‌ ‌ ‌ ‌ ‌ ‌ ‌ ‌\r\n",
      "HYPERLINK \"http://email.topresume.com/c/eJxlUctugzAQ_Bq4RCCzxEAOHJK2aStVVV9pe4uMWYJVbFNjh9-vyaPqQ_JhtTOanRnXJWV5lYeiBJIsSALzJKUZhTiJ85ysFlfJKl0vgWSXNJgTq3uDg5MYcy3DtmwIrbK0IIzRhte8gQVmBPy2qPyQQ9iVrbX9EKTLANb-jeMY_xKZ1umacSu0CtLLI8CNsOLT4V7gGEDGrEdemtv3W_rE04V8fn1g7_c347VpN5uLx7sWBvN244nOyi1nsmdiN4lxQ7etld0Z0cqisv-BQTvD8bA_3o0apxSeYYm1cNLDKJnoQiuiwxDtnKjLAKCYs4TxJIt8SzyaA4GoKBIaZTnDAivIKiSeFpqyF2jRxB02DZrB96md7bT-OLRpy5_HlrPTtfKnw-Xsj8UT_h1tIhyzTT4HVLVQu6jWXktNXv90D4c0ai-MVtILTJTe6Nod_wPgC9HntBg\"TopResume \t\r\n",
      "\r\n",
      "Hi Pieter,\r\n",
      "\r\n",
      "I wanted to share with you three easy-but-important tips for improving your resume that we've learned reviewing nearly 5,000 resumes per day:\r\n",
      "\r\n",
      "• Make sure your cover letter is strong. Employers are 40% more likely to read a resume with a cover letter.\r\n",
      "• Brag about yourself. A lot. Seriously, using positive, doer wording in your resume conveys your skills immediately to hiring managers.\r\n",
      "• Optimize keywords in your resume. Many companies rely on computers for the initial screening of resumes. This computer system is called an \"ATS\" - Applicant Tracking System.\r\n",
      "\r\n",
      "Does your resume stand out against the other 250 applicants competing for the same job?\r\n",
      "\r\n",
      "HYPERLINK \"http://email.topresume.com/c/eJxlUctugzAQ_Bq4RCCzxEAOHJK2aStVVV9pe4uMWYJVbFNjh9-vyaPqQ_JhtTOanRnXJWV5lYeiBJIsSALzJKUZhTiJ85ysFlfJKl0vgWSXNJgTq3uDg5MYcy3DtmwIrbK0IIzRhte8gQVmBPy2qPyQQ9iVrbX9EKTLANb-jeMY_xKZ1umacSu0CtLLI8CNsOLT4V7gGEDGrEdemtv3W_rE04V8fn1g7_c347VpN5uLx7sWBvN244nOyi1nsmdiN4lxQ7etld0Z0cqisv-BQTvD8bA_3o0apxSeYYm1cNLDKJnoQiuiwxDtnKjLAKCYs4TxJIt8SzyaA4GoKBIaZTnDAivIKiSeFpqyF2jRxB02DZrB96md7bT-OLRpy5_HlrPTtfKnw-Xsj8UT_h1tIhyzTT4HVLVQu6jWXktNXv90D4c0ai-MVtILTJTe6Nod_wPgC9HntBg\"see how you stacked up\r\n",
      "\r\n",
      "For starters, HYPERLINK \"http://email.topresume.com/c/eJxlUctugzAQ_Bq4RCCzxEAOHJK2aStVVV9pe4uMWYJVbFNjh9-vyaPqQ_JhtTOanRnXJWV5lYeiBJIsSALzJKUZhTiJ85ysFlfJKl0vgWSXNJgTq3uDg5MYcy3DtmwIrbK0IIzRhte8gQVmBPy2qPyQQ9iVrbX9EKTLANb-jeMY_xKZ1umacSu0CtLLI8CNsOLT4V7gGEDGrEdemtv3W_rE04V8fn1g7_c347VpN5uLx7sWBvN244nOyi1nsmdiN4lxQ7etld0Z0cqisv-BQTvD8bA_3o0apxSeYYm1cNLDKJnoQiuiwxDtnKjLAKCYs4TxJIt8SzyaA4GoKBIaZTnDAivIKiSeFpqyF2jRxB02DZrB96md7bT-OLRpy5_HlrPTtfKnw-Xsj8UT_h1tIhyzTT4HVLVQu6jWXktNXv90D4c0ai-MVtILTJTe6Nod_wPgC9HntBg\"review your resume critique, and then add-in the tips above to ensure success in your job search.\r\n",
      "\r\n",
      "Also, you may want to HYPERLINK \"http://email.topresume.com/c/eJxlUctuwyAQ_Br7EmEZbPw4-JA0TVOpqvpKm1tE8DpGMeBiaH6_OI8qbSUOaGc0OzNbV5Tl2zwUFYlxGWOS4oRmlEQ4yvN4Vt7iWbKYkjib0yCNre4NDE5CxLUM24qxJqe4obnnpmVcYkpSmkBdFk2aQZqFXdVa2w9BMg3Iwr_D4RD9EgmSBeNWaBUk89MUWdEPiKkaWSP4fghIxqxH35r79T194UkpX9-f2Ppxebgz7Wp18_zQksF8LD3RWbnhTPZM7EZBbuimtbK7IFpZUPY_MGhnOBznwopPB6hxSsEFllAL553OQTLRhVag4wftnKirgJAiZZhxnCFfE0cpiQkqCkxRljMoYEuyLcSeFpqqF2DBRB00DZjBF6qd7bTeH-u01fWy6eS8rbp2OJ38sXjGf6KNhFO20ecAqhZqh2rttdTo9Xf53tSYRn0Jo5X0AiOlN7p2p5sQ8g358bOQ\"visit our Tips & Tricks page offering free advice. It contains the most popular questions we receive from satisfied job-seekers who have worked with us to re-write their resumes.\r\n",
      "\r\n",
      "We're here to help if you have any questions whatsoever - please don't hesitate to reach out to me and my team. I'm just a reply away!\r\n",
      "\r\n",
      "All the best,\r\n",
      "\r\n",
      "Emily Gardner\r\n",
      "TopResume Resume Expert\r\n",
      "emily@topresume.com\r\n",
      "\r\n",
      "Call our team at 1-800-604-1929\r\n",
      "\r\n",
      "HYPERLINK \"http://email.topresume.com/c/eJxlUMtuwyAQ_Br7UmHxsME-cHCU5jciDJsE1YCLofn94jSpklbisOyMdh5GdkpMoraSYjJgQlvCOt7RhjRC4N3wTnbsMFLM913V4hSWCGt20Ojg6oucBg1moqxvBVfCMNMaDmRQRChMAEQ9y0tKy1qxsaKH8q7Xa_NypGJlzXNyR63couzZV2yvY3e8JDc_kOAT-PQfWEOOGm57m-xnBnTK3sMDdmBsLgp7cMrOdbLoNqBztkZWlPatIkoTjko8jVqKKep70iEuFPQwUT4BLrQ6ysVCgtjMcDpBXEsRIac5hI9bDUk-i41vdzX57HB8-2Pxjv9G2wg_2TafK3hj_RmZUG75zetracXUlsZ_2Ri8Kwc2yhKDyTrZ4MvnG801m_k\"TopResume Links\r\n",
      "\r\n",
      "HYPERLINK \"http://email.topresume.com/c/eJxlUMtuwyAQ_Br7UmHB2vhx4OAozW9EBC8JqgEXQ_P7xWlSpanEYdkZzc7MJLjsTl1pBFA2UAYNq3nLoWJV19Hd8M529WEE2u550dDol4Brslgpb8uL4LTXOvMGTodBI2Az6KFWTac5aKBdOYtLjMta1GMBh_yu12v1RyTvlHdRqlhAm6I9KmkXac6uqPcq8OMl2vmBZB66-B9YfQoKb3sTzWdCopNz-IAtTibZDKOVZi6jIbeBnJOZRAHQN5JJxVqSUyrSAAXS94yTtpPY4wnaE9JMK4NYDEYM1YxaY1hzHz7F2fuPWxtRPB8b3-7XxLPD8e3F4h3_jbYRfrJtPld0k3FnMvms5TavL93BLY37MsE7mwU2yhL8lFQ03uXPN3n-nhM\"Contact Us\r\n",
      "\r\n",
      "HYPERLINK \"http://email.topresume.com/c/eJxlUEFuwyAQfI19qbAAG2wfODhK840IwzpBNeBiaL5f7CZVmkoclp3R7MxowWQ7tqURFJMeE9qQmnFGK1K1LT707-RQnwaK-ZEVDY5-CbAmC5XytryKumOged9r2ivWsBFPXTMyTHnbStaorpzFNcZlLeqhoKf8brdb9Uck7-ToUywoT9GelbSLNBdX1EcV2Pka7fxAvIvg4n9g9Sko2Pcmms8EaErOwQO2oE2yGQYrzVxGg_YBXZLRoqC0aySRinCUMyrUUExR1xGGeCuhg5HyEXCmlUEsBiKEaoZpgrDmNrLt2fuPvYsono8Nb_dr4tnh8PZi8Y7_RtsIP9k2nys4bdwFaZ-13Ob1pTm6p3FfJnhns8BGWYLXSUXjXf58AwR0nTc\"About Us\r\n",
      "\r\n",
      "HYPERLINK \"http://email.topresume.com/c/eJxlUMGOgyAU_Bq9NBhART1wsOn2NxqEZ0tWwCKsv7_otptuN-HweDOZNzOK16IZmlxzikmHCa1IWbOaFqRoGnzsPsixPPcUs1OdVTi42cMSDRTSmfzGYejqbmAtKxmMTEiClcJdRxRhdFBE5hO_hTAvWdln9Jzeuq7FH5G0G8U9oywGc5HCzEJfbVaepK8vt2CmJ-JsABv-A4uLXsK-10HfI6AxWgtP2IDS0SQYjNBTHjTaB3SNWvGM0rYSJNlmKCWUqKKYorYlNWKNgBYGygbAiZZ7PmsI4IsJxhH8krpwMUzOfe5NBP56rD88rvFXh_3hzeID_422EX6ybT4XsErbK1IuadnN61tvdE9jv7R31iSBjTJ7p6IM2tn0-QaVNZ0C\"FAQ\r\n",
      "\r\n",
      "HYPERLINK \"http://email.topresume.com/c/eJxlUMtuwyAQ_Br7EmGZl7EPHByl-Y2I4HWCYsDF0Px-sZtUaSpxYHdGszMzSK7EWZRGkhp3NSYMU95wUuFKiHrffeA9Pfakbg68YHX0c4AlWai0t-VVMqEpEQ2HkSrMum7ArcaMj1qolneUl5O8xjgvBe0Lcszvfr9Xf0Tybp2WgjQp2pNWdlbm4gp60IGfrtFOT8S7CC7-BxafgoZtb6L5TIDG5Bw8YQuDSTbDYJWZymjQ9kGXZAZZENIyhZXGDcoZNWKkJqhtMUeNUNDCmTRnqDOtDHI2ECFUE4wjhCW34VOcvL9tXUT5eqzfPa7JV4f97s3iA_-NthJ-sq0-F3CDcRc0-KzlVq9vzZEtjfsywTubBVbKHPyQdDTe5eEbFtSdRg\"Press Room\r\n",
      "\r\n",
      "HYPERLINK \"http://email.topresume.com/c/eJxlUMtuwyAQ_Br7UmHx8PPAwVGa34gwrBNUAy6P5veL3aRKU4nDsjOanRnFG9FNXak5xWTAhNaENW1DK1J1HT4M7-TATiPF7bEpahzd6iEkA5V0prxy1qpJNHjqgSoy0KEfGJMCK8KmAWY8lAu_xriGgo0FPeV3u92qPyJ5F5KUEAIK0XkNoaBtiuYshVmFvtiCHaVvztdolgfibAQb_wPBJS9h3-uoPxOgOVkLD9iA0slkGIzQSxk12gd0SVrxgtK-FkRI0qKcVqKaYor6njSo7QT0MNF2Apxppeerhgi-WmCewYfci0txce5jbyXy52Pj2_0af3Y4vr1YvOO_0TbCT7bNZwCrtL0g5bKW3by-dEj3NPZLe2dNFtgoq3cqyaidzZ9v0ymhxQ\"Success Stories\r\n",
      "\r\n",
      "HYPERLINK \"http://email.topresume.com/c/eJxlUMtuwyAQ_Br7UmHxsME-cHCU5jciDJsE1YCLofn94jSpklbisOyMdh5GdkpMoraSYjJgQlvCOt7RhjRC4N3wTnbsMFLM913V4hSWCGt20Ojg6oucBg1moqxvBVfCMNMaDmRQRChMAEQ9y0tKy1qxsaKH8q7Xa_NypGJlzXNyR63couzZV2yvY3e8JDc_kOAT-PQfWEOOGm57m-xnBnTK3sMDdmBsLgp7cMrOdbLoNqBztkZWlPatIkoTjko8jVqKKep70iEuFPQwUT4BLrQ6ysVCgtjMcDpBXEsRIac5hI9bDUk-i41vdzX57HB8-2Pxjv9G2wg_2TafK3hj_RmZUG75zetracXUlsZ_2Ri8Kwc2yhKDyTrZ4MvnG801m_k\"TopResume \t\r\n",
      "HYPERLINK \"http://email.topresume.com/c/eJxVkE1uxCAMhU-TbCoiICEkCxYzaucaI36cCWqAlEBz_UI7rVTJGz8_PX-2EUxyxVsrKCYzJnQgPRsZ7UjHOb7Ob-Ta3y4Uj6-sGXAKe4QjO-h0cO0qBrLMwGfFKZ6IVL2a2WIMMCoNgZmwdhNrSnvTXxp6K3WeZ7dIDSqE9xpRJZAR_nLbZBE4aTf0yNaIhtJpkERqMqLCoNFAMUXTRBgauYQJFB0V4GJro9gtJIjdBssC8Si0IaftuahNIid3d2BsdgXn5XvJUz1CjhqqqqNN9iMDWrL38DvXwSfw6cfA7mtyW-U8wBvrH8iEkuUr67_3VKh6jf-0MXhXAqplj8FknWzwpfkCtfF7gw\"Facebook \tHYPERLINK \"http://email.topresume.com/c/eJxVkMtuwyAQRb_G3lRYgI0fCxaJ2vxGhGEcoxpw8VD_fiF9SJXYcLk6cwYjhRrmobaSUzZRxjvWil7whjXDQK_TG7u2twun_auoOophj3AkB40Orl7lwlU_TWIwExW9mhW0quNCzzMVnRnpUG9yRdyr9lLxWz7neTZ4WkSIhZCTP2KNloBTdiOPZI2sOB87xZRmPcnTNek45WQcmSD9oGCEmfcz0Fyro9wtFOIGywLxyJ4h4RbC-9MSZUJ3d2Bsclnk5TnkJz1CihpKqqNF-5GALMl7-H3XwSN4_C6I-4puK54HeGP9g5iQWb64_vuYIlW28Z82Bu8yoFT2GEzSaIPPly9zGXkR\"Twitter \tHYPERLINK \"http://email.topresume.com/c/eJxVkE1uwyAQhU9jbyoswGCcBYtEba4RYRjHKAZcDLV6-0L6I1VCI-bx9OYbjORKTKK1kmJywoQy0vOB0450QuDL6Y1c-uuZ4uGVNwynsEXYs4NOB9cu0piZ9QBiwmScT4YPemRcMABldD8R3K5ySWlr-nNDr-Ucx9Gt1j_AWF8jilTqpvxnuf2Ft8kicMqu6J6tkQ2lI1NEaTKgAqIRo5iicSQcDULBCBMdJsDF1ka5WUgQuxXmGeJekENOawiPJ3CSObmbK9OzK0wvzyE_6h5y1FBVHW2y7xnQnL2H33cdfAKfvg38tiS3Vs4dfNnljkwoWb6y_vujClW38R82Bu9KQLVsMZiskw2-NF98fH12\"LinkedIn \tHYPERLINK \"http://email.topresume.com/c/eJxVkM1uwyAQhJ_GvlRYgH9wDj4kavMaEYZ1gmLAhSV5_a7TH6kSlx2GmY-1U6_VrGo3SS4OXMhOtP3Qy0Y0SvHT4UOc2vNR8uG9rzqOcUuQi4fGRF_f6A1vOy24UVp1FKSVNULag1h0K-U81-t0Q9xy1R4reabzfD4bFzLqa9J-DyHtL_SSIT2cAdJqdAy8diu7FmenSsqRerQRAyMWwzrJJRtH0bNBaRhhlsMMnGx1mjYHCKlZYVkgZaKOBdcY7y9mnAr6iwfriieqt1fJj5pjSdROqkkO3WcBtpQQ4PfexIAQ8NvQX27o150zQ7AuXJmNlBV21n9r2qH234SHSzF4CtgtW4q2GHQx0PAFWNB-BA\"Instagram \t\r\n",
      "HYPERLINK \"http://email.topresume.com/c/eJxlUMtuwyAQ_Br7UmHxsME-cHCU5jciDJsE1YCLofn94jSpklbisOyMdh5GdkpMoraSYjJgQlvCOt7RhjRC4N3wTnbsMFLM913V4hSWCGt20Ojg6oucBg1moqxvBVfCMNMaDmRQRChMAEQ9y0tKy1qxsaKH8q7Xa_NypGJlzXNyR63couzZV2yvY3e8JDc_kOAT-PQfWEOOGm57m-xnBnTK3sMDdmBsLgp7cMrOdbLoNqBztkZWlPatIkoTjko8jVqKKep70iEuFPQwUT4BLrQ6ysVCgtjMcDpBXEsRIac5hI9bDUk-i41vdzX57HB8-2Pxjv9G2wg_2TafK3hj_RmZUG75zetracXUlsZ_2Ri8Kwc2yhKDyTrZ4MvnG801m_k\"© 2019 TopResume  |  HYPERLINK \"http://email.topresume.com/c/eJxlUNGOgyAQ_Bp9aTCwKuoDDza9_kZDcduSCngIbe7vD7320uslPCw7k9mZGUQtm2OTawGUdZRBxcqa11Cwomnotvtg23LfA-W7OqtocJPHORoslDP5RVBeI5esRCkZNIASsKGdAkk7XrbA8lFcQpjmrOwz2Kd3v9-LPyJpN3l9k-orAx6DOShpJqnPNit3yteHSzDjE3E2oA3_gdlFr3Dd66A_I5JTtBafsMFBR5NgNFKPedBkHcg56kFkAG0lmVSMk5RSkQookLZlNeGNxBaPwI9IEy33YtIY0Bcjnk7o59SHi2F07rq2EcTrsX7zuCZeHfabN4sP_DfaQvjJtvic0Q7ansngkpZdvL51B2sae9PeWZMEFsrk3RBV0M6mzzeQ7J4h\"Privacy  |  HYPERLINK \"http://email.topresume.com/c/eJxlUMtuwyAQ_Br7UmHxsI194OAozW9EGNYJqgEXQ_P7xW5SpanEYdkZzc6MFo3kIy-NoJj0mNCasKZtaEUqzvGhfycHdhoobo9NUePolwBrslApb8urIIxKRUc21V2PNVa6o7zhHR97xfjIxnIW1xiXtWBDQU_53W636o9I3kUIdi1om6I9K2kXaS6uYEcVmvM12vmBeBfBxf_A6lNQsO9NNJ8J0JScgwdsQZtkMwxWmrmMBu0DuiSjRUFpV0siFWlRzqhQTTFFXUca1HIJHYy0HQFnWhnEYiBbrWaYJghrbsOnOHv_sXcRxfOx4e1-TTw7HN5eLN7x32gb4Sfb5nMFp427IO2zltu8vjRH9zTuywTvbBbYKEvwOqlovMufb4w8nZI\"Terms of Use  |  HYPERLINK \"http://email.topresume.com/u/eJxVjktywyAQRE9j7VAxI_HRQgu77NyDz-BQkUCFkM8fyC7Lrup-r_0qjLJqiCtyWDjgDJOQAkcYleKP5QWP6euOXD7FbeY1H4XOa6fR5X34XkFN2oLW1ksbLE3OOYBFqiCs5SKYoUZGu4kbe1_RrzdEPRswDiRrSMdm5Mi0BsGkMqTJorTEW20o6xGpUhk3CoHK2eT5qlvOP3_q2lj3Tj8p-ZjezOemSd3w72NH9Q_pE0tOO6U-xKNkf7kac2rhF0CeTtw\"Unsubscribe\r\n",
      "149 E 23rd St | Suite 1709 | New York, NY 10010 \t\r\n",
      "\r\n",
      "HYPERLINK \"http://email.topresume.com/c/eJxlUMtuwyAQ_Br7UmHxsME-cHCU5jciDJsE1YCLofn94jSpklbisOyMdh5GdkpMoraSYjJgQlvCOt7RhjRC4N3wTnbsMFLM913V4hSWCGt20Ojg6oucBg1moqxvBVfCMNMaDmRQRChMAEQ9y0tKy1qxsaKH8q7Xa_NypGJlzXNyR63couzZV2yvY3e8JDc_kOAT-PQfWEOOGm57m-xnBnTK3sMDdmBsLgp7cMrOdbLoNqBztkZWlPatIkoTjko8jVqKKep70iEuFPQwUT4BLrQ6ysVCgtjMcDpBXEsRIac5hI9bDUk-i41vdzX57HB8-2Pxjv9G2wg_2TafK3hj_RmZUG75zetracXUlsZ_2Ri8Kwc2yhKDyTrZ4MvnG801m_k\"TopResume Links\r\n",
      "\r\n",
      "HYPERLINK \"http://email.topresume.com/c/eJxlUMtuwyAQ_Br7UmHB2vhx4OAozW9EBC8JqgEXQ_P7xWlSpanEYdkZzc7MJLjsTl1pBFA2UAYNq3nLoWJV19Hd8M529WEE2u550dDol4Brslgpb8uL4LTXOvMGTodBI2Az6KFWTac5aKBdOYtLjMta1GMBh_yu12v1RyTvlHdRqlhAm6I9KmkXac6uqPcq8OMl2vmBZB66-B9YfQoKb3sTzWdCopNz-IAtTibZDKOVZi6jIbeBnJOZRAHQN5JJxVqSUyrSAAXS94yTtpPY4wnaE9JMK4NYDEYM1YxaY1hzHz7F2fuPWxtRPB8b3-7XxLPD8e3F4h3_jbYRfrJtPld0k3FnMvms5TavL93BLY37MsE7mwU2yhL8lFQ03uXPN3n-nhM\"Contact Us\r\n",
      "\r\n",
      "HYPERLINK \"http://email.topresume.com/c/eJxlUEFuwyAQfI19qbAAG2wfODhK840IwzpBNeBiaL5f7CZVmkoclp3R7MxowWQ7tqURFJMeE9qQmnFGK1K1LT707-RQnwaK-ZEVDY5-CbAmC5XytryKumOged9r2ivWsBFPXTMyTHnbStaorpzFNcZlLeqhoKf8brdb9Uck7-ToUywoT9GelbSLNBdX1EcV2Pka7fxAvIvg4n9g9Sko2Pcmms8EaErOwQO2oE2yGQYrzVxGg_YBXZLRoqC0aySRinCUMyrUUExR1xGGeCuhg5HyEXCmlUEsBiKEaoZpgrDmNrLt2fuPvYsono8Nb_dr4tnh8PZi8Y7_RtsIP9k2nys4bdwFaZ-13Ob1pTm6p3FfJnhns8BGWYLXSUXjXf58AwR0nTc\"About Us\r\n",
      "\r\n",
      "HYPERLINK \"http://email.topresume.com/c/eJxlUMGOgyAU_Bq9NBhART1wsOn2NxqEZ0tWwCKsv7_otptuN-HweDOZNzOK16IZmlxzikmHCa1IWbOaFqRoGnzsPsixPPcUs1OdVTi42cMSDRTSmfzGYejqbmAtKxmMTEiClcJdRxRhdFBE5hO_hTAvWdln9Jzeuq7FH5G0G8U9oywGc5HCzEJfbVaepK8vt2CmJ-JsABv-A4uLXsK-10HfI6AxWgtP2IDS0SQYjNBTHjTaB3SNWvGM0rYSJNlmKCWUqKKYorYlNWKNgBYGygbAiZZ7PmsI4IsJxhH8krpwMUzOfe5NBP56rD88rvFXh_3hzeID_422EX6ybT4XsErbK1IuadnN61tvdE9jv7R31iSBjTJ7p6IM2tn0-QaVNZ0C\"FAQ\r\n",
      "\r\n",
      "HYPERLINK \"http://email.topresume.com/c/eJxlUMtuwyAQ_Br7EmGZl7EPHByl-Y2I4HWCYsDF0Px-sZtUaSpxYHdGszMzSK7EWZRGkhp3NSYMU95wUuFKiHrffeA9Pfakbg68YHX0c4AlWai0t-VVMqEpEQ2HkSrMum7ArcaMj1qolneUl5O8xjgvBe0Lcszvfr9Xf0Tybp2WgjQp2pNWdlbm4gp60IGfrtFOT8S7CC7-BxafgoZtb6L5TIDG5Bw8YQuDSTbDYJWZymjQ9kGXZAZZENIyhZXGDcoZNWKkJqhtMUeNUNDCmTRnqDOtDHI2ECFUE4wjhCW34VOcvL9tXUT5eqzfPa7JV4f97s3iA_-NthJ-sq0-F3CDcRc0-KzlVq9vzZEtjfsywTubBVbKHPyQdDTe5eEbFtSdRg\"Press Room\r\n",
      "\r\n",
      "HYPERLINK \"http://email.topresume.com/c/eJxlUMtuwyAQ_Br7UmHx8PPAwVGa34gwrBNUAy6P5veL3aRKU4nDsjOanRnFG9FNXak5xWTAhNaENW1DK1J1HT4M7-TATiPF7bEpahzd6iEkA5V0prxy1qpJNHjqgSoy0KEfGJMCK8KmAWY8lAu_xriGgo0FPeV3u92qPyJ5F5KUEAIK0XkNoaBtiuYshVmFvtiCHaVvztdolgfibAQb_wPBJS9h3-uoPxOgOVkLD9iA0slkGIzQSxk12gd0SVrxgtK-FkRI0qKcVqKaYor6njSo7QT0MNF2Apxppeerhgi-WmCewYfci0txce5jbyXy52Pj2_0af3Y4vr1YvOO_0TbCT7bNZwCrtL0g5bKW3by-dEj3NPZLe2dNFtgoq3cqyaidzZ9v0ymhxQ\"Success Stories\r\n",
      "\r\n",
      " http://email.topresume.com/o/eJxVj8FuwyAQRL_GvlRYgMHAgUOitr8RYVgnqAZcDP3-QtoeetzZ0cwbp7kRqxi9ppgoTCgjM184ncgkBL6qN3Kd3y8UL698YLikI8NZA0w2hfGhFV6V26xiwAQWGyNKcKFWwmepqDRiLB5BMH5H9-qdHiiVzBBjyYJapEWMYoqkJBwtwoCElS4r4GYbsz48FMjTDtsG-WzlqZY9pY9nddG1hFsA52sY5svLs-RXPVPNFrpqsy_-swLaaozw97cpFojlx8BvjxL2znlCdD7ekUstK3bWf2s7VF8Tv3xOMbSAbjlyctUWn2I7vgGDqGl-\n"
     ]
    }
   ],
   "source": [
    "body_content = message.body\n",
    "print(body_content)"
   ]
  },
  {
   "cell_type": "markdown",
   "metadata": {},
   "source": [
    "*Go to next email...*"
   ]
  },
  {
   "cell_type": "code",
   "execution_count": 72,
   "metadata": {},
   "outputs": [
    {
     "name": "stdout",
     "output_type": "stream",
     "text": [
      "HYPERLINK \"https://www.linkedin.com/comm/feed/?midToken=AQFFicexVScBJw&trk=eml-email_type_messaging_digest-header-15-home&trkEmail=eml-email_type_messaging_digest-header-15-home-null-3oi81s%7Ejr801zib%7Eyt-null-neptune%2Ffeed&lipi=urn%3Ali%3Apage%3Aemail_email_type_messaging_digest%3BJ%2FV1j5PlSry4KOh8HtOIEg%3D%3D\"LinkedIn\t HYPERLINK \"https://www.linkedin.com/comm/in/pmleffers?midToken=AQFFicexVScBJw&trk=eml-email_type_messaging_digest-header-23-profile&trkEmail=eml-email_type_messaging_digest-header-23-profile-null-3oi81s%7Ejr801zib%7Eyt-null-neptune%2Fprofile%7Evanity%2Eview&lipi=urn%3Ali%3Apage%3Aemail_email_type_messaging_digest%3BJ%2FV1j5PlSry4KOh8HtOIEg%3D%3D\"Pieter Leffers\t https://www.linkedin.com/comm/in/pmleffers?midToken=AQFFicexVScBJw&trk=eml-email_type_messaging_digest-header-23-profile&trkEmail=eml-email_type_messaging_digest-header-23-profile-null-3oi81s%7Ejr801zib%7Eyt-null-neptune%2Fprofile%7Evanity%2Eview&lipi=urn%3Ali%3Apage%3Aemail_email_type_messaging_digest%3BJ%2FV1j5PlSry4KOh8HtOIEg%3D%3D\t  \t \r\n",
      "  \r\n",
      "You have 1 new message\r\n",
      "\r\n",
      "  \r\n",
      "Get the full messaging experience on LinkedIn\r\n",
      "\r\n",
      "  \r\n",
      "  \r\n",
      "HYPERLINK \"https://www.linkedin.com/comm/in/barnwalamit?trk=eml-msg_digest-body-view_profile&midToken=AQFFicexVScBJw&trkEmail=eml-email_type_messaging_digest-null-4-null-null-3oi81s%7Ejr801zib%7Eyt-null-neptune%2Fprofile%7Evanity%2Eview&lipi=urn%3Ali%3Apage%3Aemail_email_type_messaging_digest%3BJ%2FV1j5PlSry4KOh8HtOIEg%3D%3D\"Amit Barnwal\t \r\n",
      "  \r\n",
      "HYPERLINK \"https://www.linkedin.com/comm/in/barnwalamit?trk=eml-msg_digest-body-view_profile&midToken=AQFFicexVScBJw&trkEmail=eml-email_type_messaging_digest-null-4-null-null-3oi81s%7Ejr801zib%7Eyt-null-neptune%2Fprofile%7Evanity%2Eview&lipi=urn%3Ali%3Apage%3Aemail_email_type_messaging_digest%3BJ%2FV1j5PlSry4KOh8HtOIEg%3D%3D\"Amit Barnwal\t \r\n",
      "  \r\n",
      "Technical Recruiter\r\n",
      "\r\n",
      "  \r\n",
      "  \r\n",
      "HYPERLINK \"https://www.linkedin.com/comm/messaging/thread/6492122367005941760/?trk=eml-msg_digest-body-reply_to_sender&midToken=AQFFicexVScBJw&trkEmail=eml-email_type_messaging_digest-null-2-null-null-3oi81s%7Ejr801zib%7Eyt-null-neptune%2Fmessaging%2Ethread&lipi=urn%3Ali%3Apage%3Aemail_email_type_messaging_digest%3BJ%2FV1j5PlSry4KOh8HtOIEg%3D%3D\"View message \r\n",
      "  \r\n",
      "HYPERLINK \"https://www.linkedin.com/comm/messaging/thread/6492122367005941760/?trk=eml-msg_digest-body-reply_to_sender&midToken=AQFFicexVScBJw&trkEmail=eml-email_type_messaging_digest-null-2-null-null-3oi81s%7Ejr801zib%7Eyt-null-neptune%2Fmessaging%2Ethread&lipi=urn%3Ali%3Apage%3Aemail_email_type_messaging_digest%3BJ%2FV1j5PlSry4KOh8HtOIEg%3D%3D\"View message \r\n",
      "  \r\n",
      " HYPERLINK \"https://static.licdn.com/scds/common/u/images/email/phoenix/icons/icon_phoenix_phone_112x112_v1.png\"mobile phone image\tNever miss another message. Get the LinkedIn app.\t \r\n",
      "HYPERLINK \"https://www.linkedin.com/e/v2?e=3oi81s-jr801zib-yt&lipi=urn%3Ali%3Apage%3Aemail_email_type_messaging_digest%3BJ%2FV1j5PlSry4KOh8HtOIEg%3D%3D&t=plh&midToken=AQFFicexVScBJw&tracking=eml-mobile_web_browse-download_iphone&ek=email_type_messaging_digest&urlhash=JaUP&url=http%3A%2F%2Fitunes%2Eapple%2Ecom%2Fapp%2Flinkedin%2Fid288429040%3Fmt%3D8\"iOS . HYPERLINK \"https://www.linkedin.com/e/v2?e=3oi81s-jr801zib-yt&lipi=urn%3Ali%3Apage%3Aemail_email_type_messaging_digest%3BJ%2FV1j5PlSry4KOh8HtOIEg%3D%3D&t=plh&midToken=AQFFicexVScBJw&tracking=eml-mobile_web_browse-download_android&ek=email_type_messaging_digest&urlhash=m8dM&url=https%3A%2F%2Fplay%2Egoogle%2Ecom%2Fstore%2Fapps%2Fdetails%3Fid%3Dcom%2Elinkedin%2Eandroid\"Android\t \r\n",
      "HYPERLINK \"https://www.linkedin.com/e/v2?e=3oi81s-jr801zib-yt&t=lun&midToken=AQFFicexVScBJw&ek=email_type_messaging_digest&li=20&m=unsub&ts=unsub&loid=AQHin6ICiN1z6gAAAWh2fArMXfe9RVbrSeLQ9MVD8Y2fp7exg-O9Xnu0tAzMDSGAR7ffXnjKKwodin0FMZ8ywqwARbxjMyWGCzi-VIFp&eid=3oi81s-jr801zib-yt\"Unsubscribe  |  HYPERLINK \"https://www.linkedin.com/e/v2?e=3oi81s-jr801zib-yt&lipi=urn%3Ali%3Apage%3Aemail_email_type_messaging_digest%3BJ%2FV1j5PlSry4KOh8HtOIEg%3D%3D&a=customerServiceUrl&midToken=AQFFicexVScBJw&ek=email_type_messaging_digest&li=19&m=footer&ts=help&articleId=67\" Help\t \r\n",
      "You are receiving Messages from connections digest emails.\r\n",
      "\r\n",
      "This email was intended for Pieter Leffers (Data Scientist at RocketML). HYPERLINK \"https://www.linkedin.com/e/v2?e=3oi81s-jr801zib-yt&lipi=urn%3Ali%3Apage%3Aemail_email_type_messaging_digest%3BJ%2FV1j5PlSry4KOh8HtOIEg%3D%3D&a=customerServiceUrl&midToken=AQFFicexVScBJw&ek=email_type_messaging_digest&articleId=4788\"Learn why we included this.\r\n",
      "\r\n",
      "HYPERLINK \"https://www.linkedin.com/comm/feed/?midToken=AQFFicexVScBJw&trk=eml-email_type_messaging_digest-footer-17-home&trkEmail=eml-email_type_messaging_digest-footer-17-home-null-3oi81s%7Ejr801zib%7Eyt-null-neptune%2Ffeed&lipi=urn%3Ali%3Apage%3Aemail_email_type_messaging_digest%3BJ%2FV1j5PlSry4KOh8HtOIEg%3D%3D\"LinkedIn\t \r\n",
      "© 2019 LinkedIn Corporation, 1000 West Maude Avenue, Sunnyvale, CA 94085. LinkedIn and the LinkedIn logo are registered trademarks of LinkedIn.\r\n",
      "\r\n",
      " http://www.linkedin.com/emimp/ip_TTI5cE9ERnpMV3B5T0RBeGVtbGlMWGwwOlpXMWhhV3hmZEhsd1pWOXRaWE56WVdkcGJtZGZaR2xuWlhOMDo=.gif\n"
     ]
    }
   ],
   "source": [
    "message = messages.GetNext()#gets the next message\n",
    "body_content = message.body\n",
    "print(body_content)"
   ]
  },
  {
   "cell_type": "code",
   "execution_count": 100,
   "metadata": {},
   "outputs": [],
   "source": [
    "email1=body_content\n",
    "email1=email1.lower()#make everything lowercase\n",
    "email1=email1.split()#split email into chunks of strings"
   ]
  },
  {
   "cell_type": "code",
   "execution_count": 101,
   "metadata": {},
   "outputs": [],
   "source": [
    "def scrubadub(variable):\n",
    "    myList=(list(variable))\n",
    "    clean=[]\n",
    "    for i in range(0,len(myList)):\n",
    "        #Regular expressions for removing web addresses\n",
    "        url_reg  = r'[a-z]*[:.]+\\S+'\n",
    "        #and replacing with nothing\n",
    "        url_text=re.sub(url_reg, '', myList[i])\n",
    "        sep = \" \"\n",
    "        junk = re.findall(r\"(?i)\\b[a-z]+\\b\", url_text)\n",
    "        #join the seperated words\n",
    "        junk = sep.join(junk)\n",
    "        #remove _s_ spaces from text after punctuation removal\n",
    "        S_space = re.sub(r' s ','',junk)\n",
    "        clean.append(S_space)\n",
    "    return clean"
   ]
  },
  {
   "cell_type": "code",
   "execution_count": 103,
   "metadata": {},
   "outputs": [
    {
     "data": {
      "text/plain": [
       "['hyperlink',\n",
       " '',\n",
       " 'hyperlink',\n",
       " '',\n",
       " 'leffers',\n",
       " '',\n",
       " 'you',\n",
       " 'have',\n",
       " '',\n",
       " 'new',\n",
       " 'message',\n",
       " 'get',\n",
       " 'the',\n",
       " 'full',\n",
       " 'messaging',\n",
       " 'experience',\n",
       " 'on',\n",
       " 'linkedin',\n",
       " 'hyperlink',\n",
       " '',\n",
       " 'barnwal',\n",
       " 'hyperlink',\n",
       " '',\n",
       " 'barnwal',\n",
       " 'technical',\n",
       " 'recruiter',\n",
       " 'hyperlink',\n",
       " '',\n",
       " 'message',\n",
       " 'hyperlink',\n",
       " '',\n",
       " 'message',\n",
       " 'hyperlink',\n",
       " '',\n",
       " 'phone',\n",
       " 'image',\n",
       " 'never',\n",
       " 'miss',\n",
       " 'another',\n",
       " 'message',\n",
       " 'get',\n",
       " 'the',\n",
       " 'linkedin',\n",
       " 'app',\n",
       " 'hyperlink',\n",
       " '',\n",
       " '',\n",
       " 'hyperlink',\n",
       " '',\n",
       " 'hyperlink',\n",
       " '',\n",
       " '',\n",
       " 'hyperlink',\n",
       " '',\n",
       " 'help',\n",
       " 'you',\n",
       " 'are',\n",
       " 'receiving',\n",
       " 'messages',\n",
       " 'from',\n",
       " 'connections',\n",
       " 'digest',\n",
       " 'emails',\n",
       " 'this',\n",
       " 'email',\n",
       " 'was',\n",
       " 'intended',\n",
       " 'for',\n",
       " 'pieter',\n",
       " 'leffers',\n",
       " 'data',\n",
       " 'scientist',\n",
       " 'at',\n",
       " 'rocketml',\n",
       " 'hyperlink',\n",
       " '',\n",
       " 'why',\n",
       " 'we',\n",
       " 'included',\n",
       " 'this',\n",
       " 'hyperlink',\n",
       " '',\n",
       " '',\n",
       " '',\n",
       " 'linkedin',\n",
       " 'corporation',\n",
       " '',\n",
       " 'west',\n",
       " 'maude',\n",
       " 'avenue',\n",
       " 'sunnyvale',\n",
       " 'ca',\n",
       " '',\n",
       " 'linkedin',\n",
       " 'and',\n",
       " 'the',\n",
       " 'linkedin',\n",
       " 'logo',\n",
       " 'are',\n",
       " 'registered',\n",
       " 'trademarks',\n",
       " 'of',\n",
       " 'linkedin',\n",
       " '']"
      ]
     },
     "execution_count": 103,
     "metadata": {},
     "output_type": "execute_result"
    }
   ],
   "source": [
    "scrubadub(email1)"
   ]
  },
  {
   "cell_type": "markdown",
   "metadata": {},
   "source": [
    "**Get ALL emails into list**"
   ]
  },
  {
   "cell_type": "code",
   "execution_count": 137,
   "metadata": {},
   "outputs": [
    {
     "name": "stdout",
     "output_type": "stream",
     "text": [
      "Number of messages:  279\n",
      "All messages downloaded into dict!\n"
     ]
    }
   ],
   "source": [
    "EmailDict={}\n",
    "TurnOffWhileLoop=[]\n",
    "counter=0\n",
    "\n",
    "outlook = win32com.client.Dispatch(\"Outlook.Application\").GetNamespace(\"MAPI\")\n",
    "inbox = outlook.GetDefaultFolder(6)\n",
    "messages = inbox.Items\n",
    "message = messages.GetFirst()#Start at the first message\n",
    "\n",
    "print('Number of messages: ',len(messages))\n",
    "while counter<=len(messages):\n",
    "    counter+=1\n",
    "    try:\n",
    "        body_content = str(message.body)\n",
    "        EmailDict[\"Message_Num_\"+str(counter)]=str(body_content)\n",
    "        message = messages.GetNext()\n",
    "    except:\n",
    "        print('All messages downloaded into dict!')\n",
    "        break\n",
    "    \n",
    "    \n",
    "    \n",
    "    "
   ]
  },
  {
   "cell_type": "code",
   "execution_count": null,
   "metadata": {},
   "outputs": [],
   "source": []
  }
 ],
 "metadata": {
  "kernelspec": {
   "display_name": "Python 3",
   "language": "python",
   "name": "python3"
  },
  "language_info": {
   "codemirror_mode": {
    "name": "ipython",
    "version": 3
   },
   "file_extension": ".py",
   "mimetype": "text/x-python",
   "name": "python",
   "nbconvert_exporter": "python",
   "pygments_lexer": "ipython3",
   "version": "3.6.5"
  }
 },
 "nbformat": 4,
 "nbformat_minor": 2
}
