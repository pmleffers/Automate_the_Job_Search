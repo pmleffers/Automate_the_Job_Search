{
 "cells": [
  {
   "cell_type": "markdown",
   "metadata": {},
   "source": [
    "**Import Packages**"
   ]
  },
  {
   "cell_type": "code",
   "execution_count": 52,
   "metadata": {},
   "outputs": [
    {
     "name": "stdout",
     "output_type": "stream",
     "text": [
      "Selenium Version: 3.141.0\n"
     ]
    }
   ],
   "source": [
    "#!pip install selenium\n",
    "import selenium\n",
    "from selenium.webdriver.common.keys import Keys\n",
    "import time\n",
    "from selenium import webdriver\n",
    "print('Selenium Version:',selenium.__version__)"
   ]
  },
  {
   "cell_type": "markdown",
   "metadata": {},
   "source": [
    "Using: \n",
    "\n",
    "    Selenium Version: 3.141.0\n",
    "    Firefox Version: 60.0.1 (64-bit)\n",
    "    geckodriver-v0.23.0-win64.zip"
   ]
  },
  {
   "cell_type": "markdown",
   "metadata": {},
   "source": [
    "**1. Go to website**\n",
    "    - 'Inspect Element' and find the sign-in element"
   ]
  },
  {
   "cell_type": "code",
   "execution_count": 53,
   "metadata": {},
   "outputs": [],
   "source": [
    "driver = webdriver.Firefox()\n",
    "driver.get(\"http://www.glassdoor.com\")\n",
    "# Wait for 5 seconds\n",
    "time.sleep(5)"
   ]
  },
  {
   "cell_type": "markdown",
   "metadata": {},
   "source": [
    "2. Find Sign-in Button and click"
   ]
  },
  {
   "cell_type": "code",
   "execution_count": 54,
   "metadata": {},
   "outputs": [],
   "source": [
    "driver.find_element_by_class_name(\"sign-in\").click()\n",
    "# Wait for 10 seconds\n",
    "time.sleep(10)"
   ]
  },
  {
   "cell_type": "markdown",
   "metadata": {},
   "source": [
    "3. Find Username and Password Fields"
   ]
  },
  {
   "cell_type": "code",
   "execution_count": 55,
   "metadata": {},
   "outputs": [],
   "source": [
    "username = driver.find_element_by_name(\"username\")\n",
    "password = driver.find_element_by_name(\"password\")"
   ]
  },
  {
   "cell_type": "markdown",
   "metadata": {},
   "source": [
    "4. Insert Username and Passord"
   ]
  },
  {
   "cell_type": "code",
   "execution_count": 56,
   "metadata": {},
   "outputs": [],
   "source": [
    "username.send_keys(\"myEmailAddress@email.com\")#Insert Username and Password into fields\n",
    "password.send_keys(\"myvoiceismypassportverify.\")"
   ]
  },
  {
   "cell_type": "markdown",
   "metadata": {},
   "source": [
    "5. Find Submit/Sign-in button and click"
   ]
  },
  {
   "cell_type": "code",
   "execution_count": 57,
   "metadata": {},
   "outputs": [],
   "source": [
    "driver.find_element_by_class_name(\"gd-btn.gd-btn-1.fill\").click()\n",
    "# Wait for 5 seconds\n",
    "time.sleep(5)"
   ]
  },
  {
   "cell_type": "markdown",
   "metadata": {},
   "source": [
    "6. Find Job Searchbar"
   ]
  },
  {
   "cell_type": "code",
   "execution_count": 58,
   "metadata": {},
   "outputs": [],
   "source": [
    "searchbar=driver.find_element_by_id(\"sc.keyword\")"
   ]
  },
  {
   "cell_type": "markdown",
   "metadata": {},
   "source": [
    "7. Insert text into search field"
   ]
  },
  {
   "cell_type": "code",
   "execution_count": 59,
   "metadata": {},
   "outputs": [],
   "source": [
    "searchbar.send_keys(\"Data Science\")"
   ]
  },
  {
   "cell_type": "markdown",
   "metadata": {},
   "source": [
    "8. Click on search link"
   ]
  },
  {
   "cell_type": "code",
   "execution_count": 60,
   "metadata": {},
   "outputs": [],
   "source": [
    "driver.find_element_by_id(\"HeroSearchButton\").click()\n",
    "# Wait for 5 seconds\n",
    "time.sleep(5)"
   ]
  },
  {
   "cell_type": "markdown",
   "metadata": {},
   "source": [
    "9. Find search results"
   ]
  },
  {
   "cell_type": "code",
   "execution_count": 66,
   "metadata": {},
   "outputs": [
    {
     "data": {
      "text/plain": [
       "[<selenium.webdriver.firefox.webelement.FirefoxWebElement (session=\"43025146-68a2-473e-afc4-41b0ae6207a1\", element=\"29c093f9-ec58-4aec-b36c-1ea19d021879\")>,\n",
       " <selenium.webdriver.firefox.webelement.FirefoxWebElement (session=\"43025146-68a2-473e-afc4-41b0ae6207a1\", element=\"382ab909-0131-4440-92ef-fbb6fa6e0f9d\")>,\n",
       " <selenium.webdriver.firefox.webelement.FirefoxWebElement (session=\"43025146-68a2-473e-afc4-41b0ae6207a1\", element=\"cbd37234-a25d-49b1-a21d-dc05768a10ad\")>,\n",
       " <selenium.webdriver.firefox.webelement.FirefoxWebElement (session=\"43025146-68a2-473e-afc4-41b0ae6207a1\", element=\"82a721a6-8516-453a-8ad4-081b5d3bad2c\")>,\n",
       " <selenium.webdriver.firefox.webelement.FirefoxWebElement (session=\"43025146-68a2-473e-afc4-41b0ae6207a1\", element=\"f98140ee-d961-4e7c-9736-831a3fa6cda3\")>,\n",
       " <selenium.webdriver.firefox.webelement.FirefoxWebElement (session=\"43025146-68a2-473e-afc4-41b0ae6207a1\", element=\"f743fe44-65ee-4ca9-b689-b613cbaa7839\")>,\n",
       " <selenium.webdriver.firefox.webelement.FirefoxWebElement (session=\"43025146-68a2-473e-afc4-41b0ae6207a1\", element=\"8f5cd650-cc06-4565-80d1-f3cd840340d1\")>,\n",
       " <selenium.webdriver.firefox.webelement.FirefoxWebElement (session=\"43025146-68a2-473e-afc4-41b0ae6207a1\", element=\"d15c8f56-b743-4a37-9480-00e691bc6665\")>,\n",
       " <selenium.webdriver.firefox.webelement.FirefoxWebElement (session=\"43025146-68a2-473e-afc4-41b0ae6207a1\", element=\"f3c80266-6789-437c-b4e8-30c475ee1087\")>,\n",
       " <selenium.webdriver.firefox.webelement.FirefoxWebElement (session=\"43025146-68a2-473e-afc4-41b0ae6207a1\", element=\"b29d8830-21e8-4c26-ac0c-723eb205431f\")>,\n",
       " <selenium.webdriver.firefox.webelement.FirefoxWebElement (session=\"43025146-68a2-473e-afc4-41b0ae6207a1\", element=\"7ce9debf-9815-4ecf-b918-31d087b5132e\")>,\n",
       " <selenium.webdriver.firefox.webelement.FirefoxWebElement (session=\"43025146-68a2-473e-afc4-41b0ae6207a1\", element=\"b91484ef-0649-4d22-8e52-87bb54800d40\")>,\n",
       " <selenium.webdriver.firefox.webelement.FirefoxWebElement (session=\"43025146-68a2-473e-afc4-41b0ae6207a1\", element=\"12680424-9949-4792-9f8b-ccb4afa73603\")>,\n",
       " <selenium.webdriver.firefox.webelement.FirefoxWebElement (session=\"43025146-68a2-473e-afc4-41b0ae6207a1\", element=\"485b88d7-117a-4e0b-a402-2d001d5e38f3\")>,\n",
       " <selenium.webdriver.firefox.webelement.FirefoxWebElement (session=\"43025146-68a2-473e-afc4-41b0ae6207a1\", element=\"a1d1ac63-7da8-4b1f-8598-b782db42eba0\")>,\n",
       " <selenium.webdriver.firefox.webelement.FirefoxWebElement (session=\"43025146-68a2-473e-afc4-41b0ae6207a1\", element=\"1c23cd3d-e2c5-41e2-aa39-a031cd0ffe0d\")>,\n",
       " <selenium.webdriver.firefox.webelement.FirefoxWebElement (session=\"43025146-68a2-473e-afc4-41b0ae6207a1\", element=\"d0575e9e-92fc-402e-8bb5-763b963fc957\")>,\n",
       " <selenium.webdriver.firefox.webelement.FirefoxWebElement (session=\"43025146-68a2-473e-afc4-41b0ae6207a1\", element=\"dcb95879-ef1d-437c-8821-a54045264fca\")>,\n",
       " <selenium.webdriver.firefox.webelement.FirefoxWebElement (session=\"43025146-68a2-473e-afc4-41b0ae6207a1\", element=\"1bb2a7b1-fbaa-4393-921f-1aeeb35d09cd\")>,\n",
       " <selenium.webdriver.firefox.webelement.FirefoxWebElement (session=\"43025146-68a2-473e-afc4-41b0ae6207a1\", element=\"5501c861-4bcb-4b8f-8347-b677731d4956\")>,\n",
       " <selenium.webdriver.firefox.webelement.FirefoxWebElement (session=\"43025146-68a2-473e-afc4-41b0ae6207a1\", element=\"071ceb2d-3a7b-47ea-b39d-081be279d9fc\")>,\n",
       " <selenium.webdriver.firefox.webelement.FirefoxWebElement (session=\"43025146-68a2-473e-afc4-41b0ae6207a1\", element=\"de777060-61fb-4dfa-9a03-1de831abc8a3\")>,\n",
       " <selenium.webdriver.firefox.webelement.FirefoxWebElement (session=\"43025146-68a2-473e-afc4-41b0ae6207a1\", element=\"80be1f22-9173-4003-b267-35d966c0b3c8\")>,\n",
       " <selenium.webdriver.firefox.webelement.FirefoxWebElement (session=\"43025146-68a2-473e-afc4-41b0ae6207a1\", element=\"31d19aab-495e-448b-9e37-0dc12c142b82\")>,\n",
       " <selenium.webdriver.firefox.webelement.FirefoxWebElement (session=\"43025146-68a2-473e-afc4-41b0ae6207a1\", element=\"d52f2426-fe46-4580-a309-4dfa64fe890d\")>,\n",
       " <selenium.webdriver.firefox.webelement.FirefoxWebElement (session=\"43025146-68a2-473e-afc4-41b0ae6207a1\", element=\"72644709-323b-4437-a6d8-75651d28fa1b\")>,\n",
       " <selenium.webdriver.firefox.webelement.FirefoxWebElement (session=\"43025146-68a2-473e-afc4-41b0ae6207a1\", element=\"af1eb3bf-2976-48e8-beea-5368712fda71\")>,\n",
       " <selenium.webdriver.firefox.webelement.FirefoxWebElement (session=\"43025146-68a2-473e-afc4-41b0ae6207a1\", element=\"9c32ae3f-134b-4b5d-8ab0-e98b14a227d0\")>,\n",
       " <selenium.webdriver.firefox.webelement.FirefoxWebElement (session=\"43025146-68a2-473e-afc4-41b0ae6207a1\", element=\"b44e7e07-6acb-4b63-836d-5a9f6f1940ff\")>,\n",
       " <selenium.webdriver.firefox.webelement.FirefoxWebElement (session=\"43025146-68a2-473e-afc4-41b0ae6207a1\", element=\"6b7c0bfa-2392-4cae-b980-f63882de3589\")>]"
      ]
     },
     "execution_count": 66,
     "metadata": {},
     "output_type": "execute_result"
    }
   ],
   "source": [
    "driver.find_elements_by_class_name(\"jl\")"
   ]
  },
  {
   "cell_type": "markdown",
   "metadata": {},
   "source": [
    "10. Select first search result"
   ]
  },
  {
   "cell_type": "code",
   "execution_count": 85,
   "metadata": {},
   "outputs": [],
   "source": [
    "driver.find_elements_by_class_name(\"jl\")[0].click()"
   ]
  },
  {
   "cell_type": "code",
   "execution_count": 98,
   "metadata": {
    "scrolled": true
   },
   "outputs": [],
   "source": [
    "Description=driver.find_element_by_class_name(\"jobDescriptionContent\")"
   ]
  },
  {
   "cell_type": "code",
   "execution_count": 101,
   "metadata": {},
   "outputs": [
    {
     "name": "stdout",
     "output_type": "stream",
     "text": [
      "Job ID: 36759\n",
      "\n",
      "***Not able to use 3rd Party Agencies***\n",
      "\n",
      "Senior Data Science Engineer\n",
      "\n",
      "Our client is seeking a Senior Data Science Engineer to join their dynamic team in Hillsboro, OR. The nature of the work is focused on the company’s computer and telephony technology tools used to create, store, exchange, and use all forms of information.\n",
      "\n",
      "Senior Data Science Engineer Responsibilities:\n",
      "\n",
      "Develops action plans and processes, in coordination with management team, for integrating activities and optimizing department resources to meet major goals and objectives.\n",
      "Manages employees, sets goals, coach's staff, supports development, collaborates on hiring decisions, disciplinary actions, performance management, and recognition, and rewards.\n",
      "Facilitates or performs application support, problem solving, and issue resolution with internal and external resources.\n",
      "Contributes and reviews recommendations for technical solutions.\n",
      "Manages and/or contributes to the technical components of the RFP process.\n",
      "Resolves issues and determines options for issue resolution and risk mitigation.\n",
      "Defines and communicates requirements for technical environments and determines the technical scope for projects. process.\n",
      "Resolves issues and determines options for issue resolution and risk mitigation.\n",
      "Defines and communicates requirements for technical environments and determines the technical scope for projects.\n",
      "Provides technical estimates for project budget input to Senior/Project Manager.\n",
      "Leads and owns engagements with software vendors to ensure that code and configuration requirements and deliverables are met.\n",
      "Enforces architecture, governance, security, and global process standards to system changes and deployments.\n",
      "Coordinates compliance issue identification and remediation.\n",
      "Collaborates with other teams on integration needs/design.\n",
      "Contributes to database design and creates critical-path, high-risk, advanced technical designs.\n",
      "Approves proof of concept efforts and reviews technical designs.\n",
      "Approves proof of concept efforts and reviews results.\n",
      "Enforce department architectural direction and ensure consistent technical approach within department.\n",
      "Decide on engineering tools based on recommendations.\n",
      "Allocate resources based on performance monitoring and tuning results. Manage and enforce performance thresholds and standards.\n",
      "Review and approve performance test results, recommendations, and tuning results.\n",
      "and is responsible for the creation of test plans, test execution, and validation of test results.\n",
      "\n",
      "Senior Data Science Engineer Qualifications:\n",
      "\n",
      "7+ years of experience spread across Java, R, Python, that includes extensive experience in Big Data Technologies.\n",
      "5+ years of experience architecting and building scalable Reporting and Advance Analytics solutions using Big Data technologies.\n",
      "Masters in Computer science preferred.\n",
      "Proven track record lifting and shifting predictive, deep and machine learning application at scale on big data platform.\n",
      "Experience building data science application in SPARK, Hadoop, EMR ( Qubole or Data Bricks or others).\n",
      "Experience in building application in microservice architecture, Restful APIs.\n",
      "Fast-learner, Self-driven and working with fast-spaced team.\n",
      "Strong communication and collaboration skills.\n",
      "Ability to work team of expert Data scientists and build Feature Engineering.\n",
      "Experience with legacy data platforms such as Oracle, Teradata, or others – Strong plus.\n",
      "Experience with performance/scalability tuning, algorithms and computational complexity.\n",
      "Benefits\n",
      "Benefits are available to eligible VanderHouwen contractors and include coverage for medical, dental, vision, life insurance, short and long term disability, and matching 401k.\n",
      "\n",
      "About VanderHouwen\n",
      "VanderHouwen is an award-winning, Women-Owned, WBENC certified professional staffing firm. Founded in 1987, VanderHouwen has been successfully placing experienced professionals throughout the Pacific Northwest and nationwide. Our recruitment teams are highly specialized in either Technology and IT, Engineering, or Accounting and Finance career markets. Our recruiters value building meaningful, professional relationships with each candidate as well as developing honed knowledge of companies' staffing needs and workplaces. Partner with us to land your next exciting career.\n",
      "\n",
      "VanderHouwen is an Equal Opportunity Employer and participates in E-Verify. VanderHouwen does not discriminate on the basis of race, color, religion, sex, national origin, age, disability, or any other characteristic protected by applicable local, state or federal civil rights laws.\n"
     ]
    }
   ],
   "source": [
    "print(Description.text)"
   ]
  },
  {
   "cell_type": "markdown",
   "metadata": {},
   "source": [
    "Stop Selenium"
   ]
  },
  {
   "cell_type": "code",
   "execution_count": 102,
   "metadata": {},
   "outputs": [],
   "source": [
    "driver.close()\n",
    "driver.quit()"
   ]
  },
  {
   "cell_type": "code",
   "execution_count": null,
   "metadata": {},
   "outputs": [],
   "source": []
  }
 ],
 "metadata": {
  "kernelspec": {
   "display_name": "Python 3",
   "language": "python",
   "name": "python3"
  },
  "language_info": {
   "codemirror_mode": {
    "name": "ipython",
    "version": 3
   },
   "file_extension": ".py",
   "mimetype": "text/x-python",
   "name": "python",
   "nbconvert_exporter": "python",
   "pygments_lexer": "ipython3",
   "version": "3.6.5"
  }
 },
 "nbformat": 4,
 "nbformat_minor": 2
}
