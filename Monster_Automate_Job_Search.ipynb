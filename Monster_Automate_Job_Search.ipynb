{
 "cells": [
  {
   "cell_type": "markdown",
   "metadata": {},
   "source": [
    "**Import Packages**"
   ]
  },
  {
   "cell_type": "code",
   "execution_count": 358,
   "metadata": {},
   "outputs": [
    {
     "name": "stdout",
     "output_type": "stream",
     "text": [
      "Selenium Version: 3.141.0\n"
     ]
    }
   ],
   "source": [
    "#!pip install selenium\n",
    "import selenium\n",
    "from selenium.webdriver.common.keys import Keys\n",
    "import time\n",
    "import re\n",
    "from selenium import webdriver\n",
    "print('Selenium Version:',selenium.__version__)"
   ]
  },
  {
   "cell_type": "markdown",
   "metadata": {},
   "source": [
    "Using: \n",
    "\n",
    "    Selenium Version: 3.141.0\n",
    "    Firefox Version: 60.0.1 (64-bit)\n",
    "    geckodriver-v0.23.0-win64.zip"
   ]
  },
  {
   "cell_type": "markdown",
   "metadata": {},
   "source": [
    "**1. Go to website**\n",
    "    - 'Inspect Element' and find the sign-in element"
   ]
  },
  {
   "cell_type": "code",
   "execution_count": 338,
   "metadata": {},
   "outputs": [],
   "source": [
    "driver = webdriver.Firefox()\n",
    "driver.get(\"https://www.monster.com/account/homepage/\")\n",
    "# Wait for 10 seconds\n",
    "time.sleep(10)"
   ]
  },
  {
   "cell_type": "markdown",
   "metadata": {},
   "source": [
    "Find Username and Password Fields"
   ]
  },
  {
   "cell_type": "code",
   "execution_count": 339,
   "metadata": {},
   "outputs": [],
   "source": [
    "username = driver.find_element_by_id(\"EmailAddress\")\n",
    "password = driver.find_element_by_name(\"Password\")"
   ]
  },
  {
   "cell_type": "code",
   "execution_count": 340,
   "metadata": {},
   "outputs": [],
   "source": [
    "username.send_keys(\"myEmailAddress@email.com\")#Insert Username and Password into fields\n",
    "password.send_keys(\"myvoiceismypassportverify.\")"
   ]
  },
  {
   "cell_type": "markdown",
   "metadata": {},
   "source": [
    "Find Sign-in Button and click"
   ]
  },
  {
   "cell_type": "code",
   "execution_count": 341,
   "metadata": {},
   "outputs": [],
   "source": [
    "driver.find_element_by_id(\"btn-login\").click()\n",
    "# Wait for 10 seconds\n",
    "time.sleep(10)"
   ]
  },
  {
   "cell_type": "markdown",
   "metadata": {},
   "source": [
    "Find Job Searchbar"
   ]
  },
  {
   "cell_type": "code",
   "execution_count": 343,
   "metadata": {},
   "outputs": [],
   "source": [
    "searchbar=driver.find_element_by_id(\"rs-search-job\")"
   ]
  },
  {
   "cell_type": "markdown",
   "metadata": {},
   "source": [
    "Insert text into search field"
   ]
  },
  {
   "cell_type": "code",
   "execution_count": 344,
   "metadata": {},
   "outputs": [],
   "source": [
    "searchbar.send_keys(\"Data Science\")"
   ]
  },
  {
   "cell_type": "markdown",
   "metadata": {},
   "source": [
    "Click on search link"
   ]
  },
  {
   "cell_type": "code",
   "execution_count": 345,
   "metadata": {},
   "outputs": [],
   "source": [
    "driver.find_element_by_id(\"hp-job-search\").click()\n",
    "# Wait for 10 seconds\n",
    "time.sleep(10)"
   ]
  },
  {
   "cell_type": "markdown",
   "metadata": {},
   "source": [
    "Search Headers"
   ]
  },
  {
   "cell_type": "code",
   "execution_count": 346,
   "metadata": {},
   "outputs": [
    {
     "name": "stdout",
     "output_type": "stream",
     "text": [
      "Data Scientist - Statistics\n",
      "comScore, Inc.\n",
      "Reston, VA\n",
      "1 day ago\n",
      "Journeyman - Data Scientist\n",
      "Perspecta\n",
      "Springfield, VA\n",
      "5 days ago\n",
      "Senior Staff Data Scientist Research Technology & Innovation (Medical Device)\n",
      "Smith & Nephew\n",
      "Memphis, TN\n",
      "22 days ago\n",
      "Data Scientist - AL\n",
      "The Photonics Group\n",
      "  Posted today\n",
      "QC Data Review Scientist\n",
      "Cambrex Corp.\n",
      "Charles City, IA\n",
      "Posted today\n",
      "Associate Data Scientist - PhD\n",
      "Enterprise Select\n",
      "Cincinnati, OH\n",
      "2 days ago\n",
      "Data Scientist\n",
      "Alaka`ina Foundation Family of Companies\n",
      "San Antonio, TX\n",
      "5 days ago\n",
      "Data Scientist\n",
      "Jobot\n",
      "Daly City, CA\n",
      "5 days ago\n",
      "Data Scientist with Matlab Scripting\n",
      "Allegiance Consulting\n",
      "Westminster, CO\n",
      "5 days ago\n",
      "Data Scientist III\n",
      "The Judge Group\n",
      "Rancho Cordova, CA\n",
      "7 days ago\n",
      "Associate Data Scientist\n",
      "Advantage Solutions\n",
      "Hutchinson, KS\n",
      "7 days ago\n",
      "Data Scientist\n",
      "ProKarma\n",
      "Omaha, NE\n",
      "18 days ago\n",
      "Sr./Lead Data Scientist\n",
      "Altamira Technologies Corporation\n",
      "Tampa, FL\n",
      "18 days ago\n",
      "Senior Data Scientist, Analytics and Advertising\n",
      "Interactive Brokers LLC\n",
      "Greenwich, CT\n",
      "21 days ago\n",
      "Data Scientist\n",
      "Company Confidential\n",
      "Troy Hills, NJ\n",
      "25 days ago\n",
      "Data Scientist - Manufacturing and Supply Chain Analytics\n",
      "Ford\n",
      "Dearborn, MI\n",
      "Posted today\n",
      "Data Scientist\n",
      "Liberty Personnel\n",
      "Plymouth Meeting, PA\n",
      "Posted today\n",
      "Manufacturing Data Scientist\n",
      "FCA\n",
      "Auburn Hills, MI\n",
      "Posted today\n",
      "Data Scientist\n",
      "CNH Industrial\n",
      "Burr Ridge, IL\n",
      "Posted today\n",
      "Data Scientist Lead-PS2195\n",
      "Anthem\n",
      "Chicago, IL\n",
      "Posted today\n",
      "Data Scientist\n",
      "Randstad Technologies\n",
      "Austin, TX\n",
      "Posted today\n",
      "Data Scientist\n",
      "Apex Systems\n",
      "Boston, MA\n",
      "1 day ago\n",
      "Data Scientist\n",
      "CyberCoders\n",
      "Elmira, NY\n",
      "2 days ago\n",
      "Data Scientist\n",
      "Collabera\n",
      "Charlotte, NC\n",
      "3 days ago\n",
      "Data Scientist, Machine Learning for an Automotive Software Company in Santa Clara, CA\n",
      "OSI Engineering\n",
      "Santa Clara, CA\n",
      "3 days ago\n",
      "Load more jobs\n"
     ]
    }
   ],
   "source": [
    "#ResultsScrollable\n",
    "testDesc=driver.find_elements_by_id(\"ResultsScrollable\")\n",
    "for i in testDesc:\n",
    "    print(i.text)"
   ]
  },
  {
   "cell_type": "code",
   "execution_count": 347,
   "metadata": {},
   "outputs": [
    {
     "name": "stdout",
     "output_type": "stream",
     "text": [
      "\n",
      "\n",
      "\n",
      "\n",
      "Data Scientist - Statistics\n",
      "Journeyman - Data Scientist\n",
      "Senior Staff Data Scientist Research Technology & Innovation (Medical Device)\n",
      "Data Scientist - AL\n",
      "QC Data Review Scientist\n",
      "Associate Data Scientist - PhD\n",
      "Data Scientist\n",
      "Data Scientist\n",
      "Data Scientist with Matlab Scripting\n",
      "Data Scientist III\n",
      "Associate Data Scientist\n",
      "Data Scientist\n",
      "Sr./Lead Data Scientist\n",
      "Senior Data Scientist, Analytics and Advertising\n",
      "Data Scientist\n",
      "Data Scientist - Manufacturing and Supply Chain Analytics\n",
      "Data Scientist\n",
      "Manufacturing Data Scientist\n",
      "Data Scientist\n",
      "Data Scientist Lead-PS2195\n",
      "Data Scientist\n",
      "Data Scientist\n",
      "Data Scientist\n",
      "Data Scientist\n",
      "Data Scientist, Machine Learning for an Automotive Software Company in Santa Clara, CA\n",
      "\n",
      "\n"
     ]
    }
   ],
   "source": [
    "testDesc=driver.find_elements_by_class_name(\"card-header\")\n",
    "for i in testDesc:\n",
    "    print(i.text)"
   ]
  },
  {
   "cell_type": "code",
   "execution_count": 348,
   "metadata": {},
   "outputs": [
    {
     "name": "stdout",
     "output_type": "stream",
     "text": [
      "\n",
      "\n",
      "\n",
      "Data Science Jobs\n",
      "(13396 Jobs Found)\n",
      "\n",
      "Data Scientist - Statistics\n",
      "Journeyman - Data Scientist\n",
      "Senior Staff Data Scientist Research Technology & Innovation (Medical Device)\n",
      "Data Scientist - AL\n",
      "QC Data Review Scientist\n",
      "Associate Data Scientist - PhD\n",
      "Data Scientist\n",
      "Data Scientist\n",
      "Data Scientist with Matlab Scripting\n",
      "Data Scientist III\n",
      "Associate Data Scientist\n",
      "Data Scientist\n",
      "Sr./Lead Data Scientist\n",
      "Senior Data Scientist, Analytics and Advertising\n",
      "Data Scientist\n",
      "Data Scientist - Manufacturing and Supply Chain Analytics\n",
      "Data Scientist\n",
      "Manufacturing Data Scientist\n",
      "Data Scientist\n",
      "Data Scientist Lead-PS2195\n",
      "Data Scientist\n",
      "Data Scientist\n",
      "Data Scientist\n",
      "Data Scientist\n",
      "Data Scientist, Machine Learning for an Automotive Software Company in Santa Clara, CA\n",
      "Data Scientist - Statistics at comScore, Inc.\n",
      "\n",
      "\n"
     ]
    }
   ],
   "source": [
    "testDesc=driver.find_elements_by_class_name(\"title\")\n",
    "for i in testDesc:\n",
    "    print(i.text)"
   ]
  },
  {
   "cell_type": "code",
   "execution_count": 349,
   "metadata": {},
   "outputs": [
    {
     "name": "stdout",
     "output_type": "stream",
     "text": [
      "comScore, Inc.\n",
      "Perspecta\n",
      "Smith & Nephew\n",
      "The Photonics Group\n",
      "Cambrex Corp.\n",
      "Enterprise Select\n",
      "Alaka`ina Foundation Family of Companies\n",
      "Jobot\n",
      "Allegiance Consulting\n",
      "The Judge Group\n",
      "Advantage Solutions\n",
      "ProKarma\n",
      "Altamira Technologies Corporation\n",
      "Interactive Brokers LLC\n",
      "Company Confidential\n",
      "Ford\n",
      "Liberty Personnel\n",
      "FCA\n",
      "CNH Industrial\n",
      "Anthem\n",
      "Randstad Technologies\n",
      "Apex Systems\n",
      "CyberCoders\n",
      "Collabera\n",
      "OSI Engineering\n"
     ]
    }
   ],
   "source": [
    "testDesc=driver.find_elements_by_class_name(\"company\")\n",
    "for i in testDesc:\n",
    "    print(i.text)"
   ]
  },
  {
   "cell_type": "code",
   "execution_count": 350,
   "metadata": {},
   "outputs": [
    {
     "name": "stdout",
     "output_type": "stream",
     "text": [
      "Location\n",
      "\n",
      "Reston, VA\n",
      "Springfield, VA\n",
      "Memphis, TN\n",
      " \n",
      "Charles City, IA\n",
      "Cincinnati, OH\n",
      "San Antonio, TX\n",
      "Daly City, CA\n",
      "Westminster, CO\n",
      "Rancho Cordova, CA\n",
      "Hutchinson, KS\n",
      "Omaha, NE\n",
      "Tampa, FL\n",
      "Greenwich, CT\n",
      "Troy Hills, NJ\n",
      "Dearborn, MI\n",
      "Plymouth Meeting, PA\n",
      "Auburn Hills, MI\n",
      "Burr Ridge, IL\n",
      "Chicago, IL\n",
      "Austin, TX\n",
      "Boston, MA\n",
      "Elmira, NY\n",
      "Charlotte, NC\n",
      "Santa Clara, CA\n"
     ]
    }
   ],
   "source": [
    "testDesc=driver.find_elements_by_class_name(\"location\")\n",
    "for i in testDesc:\n",
    "    print(i.text)"
   ]
  },
  {
   "cell_type": "code",
   "execution_count": 351,
   "metadata": {},
   "outputs": [
    {
     "name": "stdout",
     "output_type": "stream",
     "text": [
      "1 day ago\n",
      "5 days ago\n",
      "22 days ago\n",
      "Posted today\n",
      "Posted today\n",
      "2 days ago\n",
      "5 days ago\n",
      "5 days ago\n",
      "5 days ago\n",
      "7 days ago\n",
      "7 days ago\n",
      "18 days ago\n",
      "18 days ago\n",
      "21 days ago\n",
      "25 days ago\n",
      "Posted today\n",
      "Posted today\n",
      "Posted today\n",
      "Posted today\n",
      "Posted today\n",
      "Posted today\n",
      "1 day ago\n",
      "2 days ago\n",
      "3 days ago\n",
      "3 days ago\n",
      "\n"
     ]
    }
   ],
   "source": [
    "testDesc=driver.find_elements_by_class_name(\"meta\")\n",
    "for i in testDesc:\n",
    "    print(i.text)"
   ]
  },
  {
   "cell_type": "code",
   "execution_count": 356,
   "metadata": {},
   "outputs": [],
   "source": [
    "from datetime import timedelta\n",
    "from datetime import date\n",
    "from datetime import time\n",
    "from datetime import datetime "
   ]
  },
  {
   "cell_type": "code",
   "execution_count": 357,
   "metadata": {},
   "outputs": [
    {
     "name": "stdout",
     "output_type": "stream",
     "text": [
      "1-6-2019\n",
      "1-2-2019\n",
      "12-16-2018\n",
      "1-7-2019\n",
      "1-7-2019\n",
      "1-5-2019\n",
      "1-2-2019\n",
      "1-2-2019\n",
      "1-2-2019\n",
      "12-31-2018\n",
      "12-31-2018\n",
      "12-20-2018\n",
      "12-20-2018\n",
      "12-17-2018\n",
      "12-13-2018\n",
      "1-7-2019\n",
      "1-7-2019\n",
      "1-7-2019\n",
      "1-7-2019\n",
      "1-7-2019\n",
      "1-7-2019\n",
      "1-6-2019\n",
      "1-5-2019\n",
      "1-4-2019\n",
      "1-4-2019\n"
     ]
    }
   ],
   "source": [
    "testDesc=driver.find_elements_by_class_name(\"meta\")\n",
    "for i in testDesc:\n",
    "    '''\n",
    "    Converts 'Days ago to dates'\n",
    "    '''\n",
    "    daysAgo=str(i.text)\n",
    "    digits=list(re.findall('\\d+', daysAgo)) #regular expression find all integers\n",
    "    if daysAgo: #if there is a value (not blank)\n",
    "        if digits: #if they are integers\n",
    "            d = datetime.today() - timedelta(int(digits[0]))\n",
    "            print(str(d.month)+'-'+str(d.day)+'-'+str(d.year)) \n",
    "        else:\n",
    "            d = datetime.today() #if 'Posted today return today's date\n",
    "            print(str(d.month)+'-'+str(d.day)+'-'+str(d.year))\n"
   ]
  },
  {
   "cell_type": "code",
   "execution_count": 354,
   "metadata": {},
   "outputs": [],
   "source": [
    "testDesc=driver.find_elements_by_id(\"card-content\")\n",
    "for i in testDesc:\n",
    "    print(i.text)"
   ]
  },
  {
   "cell_type": "markdown",
   "metadata": {},
   "source": [
    "Find search results"
   ]
  },
  {
   "cell_type": "code",
   "execution_count": 359,
   "metadata": {},
   "outputs": [],
   "source": [
    "import time\n",
    "testLink=driver.find_elements_by_class_name(\"name\")\n",
    "testLink[0].click()\n",
    "time.sleep(5)"
   ]
  },
  {
   "cell_type": "markdown",
   "metadata": {},
   "source": [
    "Get job description"
   ]
  },
  {
   "cell_type": "code",
   "execution_count": 360,
   "metadata": {},
   "outputs": [
    {
     "data": {
      "text/plain": [
       "'Job Description\\nJob Title: Data Scientist, Statistics\\nLocation: Reston, VA\\n About This Role:\\ncomScore is a leading Internet technology company that measures what people do as they navigate the digital world and turns that information into insights and actions for our clients to maximize the value of their digital investments.We are in the need of a Data Scientist Statistics in our Reston, VA location. The ideal candidate is a dedicated person with knowledge of statistical concepts, outstanding communication skills, and the ability think critically to solve open ended research questions. This is a technical position requiring analytical and market research expertise, preferably with experience working with very large data sets. The statistical analyst role is a key position on the Stats Services team with high potential for advancement and growth.\\n What You’ll Do: \\nManipulate large datasets to develop statistical models and robust methodology to address key research initiatives\\nRelay research findings to technical and non-technical audiences in the form of presentations and other forms of documentation\\nWork across various teams toward common goals\\nHelp transition research items and processes into a production environment\\nWhat You’ll Need:\\nMinimum of two years of RELEVANT, professional experience.  \\nBachelors Degree in Statistics, Operations Research, Economics, Social Sciences Computer Science or Math or similar degree with a focus on statistical methodology.\\nProgramming experience in R and/or python \\nFamiliarity with categorical data modeling experience with SQL querying\\nExcellent verbal and written communication skills\\nExperience working with varied small teams\\nAbility to multi-task with an eagerness to learn new statistical methods\\nDedication to innovation and continuous improvement\\nCommitted to deadlines and meeting product requirements\\nPreferred:  \\nExperience working with Big Data Analytics (e.g. Hadoop, SQL)\\nFamiliarity with Bayesian inference, MCMC methodologies, generalized linear models, and machine learning (advanced clustering and classification methods)\\nExperience with Digital Market Research\\nAgent Based Modeling experience is a plus1+ years of professional experience\\nMasters Degree in Statistics, Operations Research, Economics, Social Sciences or similar degree with a focus on statistical methodology preferred but not required.\\nAbout Comscore\\nAt Comscore, we’re pioneering the future of cross-platform media measurement, arming organizations with the insights they need to make decisions with confidence. Central to this aim are our people who work together to simplify the complex on behalf of our clients & partners. Though our roles and skills are varied, we’re united by our commitment to five underlying values: Integrity, Velocity, Accountability, Teamwork, and Servant Leadership. If you’re motivated by big challenges and interested in helping some of the largest and most important media properties and brands navigate the future of media, we’d love to hear from you.\\n Comscore (NASDAQ: SCOR) is a trusted partner for planning, transacting and evaluating media across platforms. With a data footprint that combines digital, linear TV, over-the-top and theatrical viewership intelligence with advanced audience insights, Comscore allows media buyers and sellers to quantify their multiscreen behavior and make business decisions with confidence. A proven leader in measuring digital and set-top box audiences and advertising at scale, Comscore is the industry’s emerging, third-party source for reliable and comprehensive cross-platform measurement. To learn more about Comscore, please visit Comscore.com.\\n EEO Statement: We are an equal employment opportunity employer. All qualified applicants will receive consideration for employment without regard to race, color, religion, national origin, sex, disability status, sexual orientation, gender identity, age, protected veteran status or any other characteristic protected by law.\\n To comply with federal law, Comscore participates in E-Verify. Successful candidates must pass the E-Verify process after hire.\\n At this time, Comscore will not sponsor a new applicant for employment authorization for this position.\\n *LI-EB1\\n*MSEB'"
      ]
     },
     "execution_count": 360,
     "metadata": {},
     "output_type": "execute_result"
    }
   ],
   "source": [
    "testDesc=driver.find_elements_by_id(\"JobDescription\")\n",
    "testDesc[0].text\n"
   ]
  },
  {
   "cell_type": "markdown",
   "metadata": {},
   "source": [
    "Move to the next job and get description"
   ]
  },
  {
   "cell_type": "code",
   "execution_count": 361,
   "metadata": {},
   "outputs": [],
   "source": [
    "testLink=driver.find_elements_by_class_name(\"name\")\n",
    "testLink[2].click()\n",
    "time.sleep(5)"
   ]
  },
  {
   "cell_type": "code",
   "execution_count": 362,
   "metadata": {},
   "outputs": [
    {
     "data": {
      "text/plain": [
       "'Overview\\nEvery day at Perspecta, we enable hundreds of thousands of people to take on our nation’s most important work. We’re a company founded on a diverse set of capabilities and skills, bound together by a single promise: we never stop solving our nation’s most complex challenges. Our team of engineers, analysts, developers, investigators, integrators and architects work tirelessly to create innovative solutions. We continually push ourselves—to respond, to adapt, to go further. To look ahead to the changing landscape and develop new and innovative ways to serve our customers.\\nPerspecta works with U.S. government customers in defense, intelligence, civilian, health care, and state and local markets. Our high-caliber employees are rewarded in many ways—not only through competitive salaries and benefits packages, but the opportunity to create a meaningful impact in jobs and on projects that matter.\\nPerspecta’s talented and robust workforce—14,000 strong—stands ready to welcome you to the team. Let’s make an impact together.\\nPerspecta is an AA/EEO Employer - Minorities/Women/Veterans/Disabled and other protected categories\\nResponsibilities\\nInvolved in the analysis of unstructured and semi-structured data, including latent semantic indexing (LSI), entity identification and tagging, complex event processing (CEP), and the application of analysis algorithms on distributed, clustered, and cloud-based high-performance infrastructures. Exercises creativity in applying non-traditional approaches to large-scale analysis of unstructured data in support of high-value use cases visualized through multi-dimensional interfaces. Handle processing and index requests against high-volume collections of data and high-velocity data streams. Has the ability to make discoveries in the world of big data. Requires strong technical and computational skills - engineering, physics, mathematics, coupled with the ability to code design, develop, and deploy sophisticated applications using advanced unstructured and semi-structured data analysis techniques and utilizing high-performance computing environments. Has the ability to utilize advance tools and computational skills to interpret, connect, predict and make discoveries in complex data and deliver recommendations for business and analytic decisions. Experience with software development, either an open-source enterprise software development stack (Java/Linux/Ruby/Python) or a Windows development stack (.NET, C#, C++). Experience with data transport and transformation APIs and technologies such as JSON, XML, XSLT, JDBC, SOAP and REST. Experience with Cloud-based data analysis tools including Hadoop and Mahout, Acumulo, Hive, Impala, Pig, and similar. Experience with visual analytic tools like Microsoft Pivot, Palantir, or Visual Analytics. Experience with open source textual processing such as Lucene, Sphinx, Nutch or Solr. Experience with entity extraction and conceptual search technologies such as LSI, LDA, etc. Experience with machine learning, algorithm analysis, and data clustering. Conceive and prepare thorough, well articulated tactical or strategic data science products (e.g., technical articles, visualizations, graphics, and intelligence reports) that summarize the methods and results of data science solutions. Design a range of research projects, data collection and methodologies. Identify and appropriately evaluate a wide range of existing methods, models and algorithms in familiar domains for a variety of mission driven problems; recognizing the capabilities and limitations of methods. Identify, retrieve, manipulate, relate and/or exploit multiple structured data sets from various sources. Identify problems to which data science can be applied and initiate appropriate solutions.\\nQualifications\\nJourneyman - Full-performance level, expected to work with minimal oversight. Personnel considered competent in their trade with 3 years of greater but less than 10 years of experience. A bachelors degree in a field related to the support service may count for up to four years of experience. Journeyman should be fully capable of meeting most services without direction and expected to assist apprentice level personnel in learning their trade. Government and/or contractor personnel may perform quality control assurance checks on their work but should not find significant errors. Journeyman level are expected to collaborate with government and contractor personnel in NGA and the IC in the performance of services. Such collaboration should provide accurate technical information that contributes to analytical synergy that is better than the sum of the individual parts and expected to regularly provide division level support and may periodically be called upon to provide support at the office level. Demonstrated good oral and written communication skills.\\nOptions'"
      ]
     },
     "execution_count": 362,
     "metadata": {},
     "output_type": "execute_result"
    }
   ],
   "source": [
    "testDesc=driver.find_elements_by_id(\"JobDescription\")\n",
    "testDesc[0].text\n"
   ]
  },
  {
   "cell_type": "markdown",
   "metadata": {},
   "source": [
    "Load more jobs"
   ]
  },
  {
   "cell_type": "code",
   "execution_count": 367,
   "metadata": {},
   "outputs": [],
   "source": [
    "testDesc=driver.find_elements_by_class_name(\"mux-btn.btn-secondary\")\n",
    "testDesc[2].click()"
   ]
  },
  {
   "cell_type": "code",
   "execution_count": 368,
   "metadata": {},
   "outputs": [],
   "source": [
    "#testDesc=driver.find_elements_by_id(\"loadMoreJobs\")\n",
    "#testDesc[0].text"
   ]
  },
  {
   "cell_type": "code",
   "execution_count": 369,
   "metadata": {},
   "outputs": [],
   "source": [
    "driver.close()\n",
    "driver.quit()"
   ]
  },
  {
   "cell_type": "code",
   "execution_count": 370,
   "metadata": {},
   "outputs": [],
   "source": [
    "#test=driver.find_elements_by_class_name(\"mux-custom-scroll.is-active.is-scrolled-up.is-start-position\")\n",
    "#testList=[i for i in (test[0].text).split()]\n",
    "#len(testList)"
   ]
  },
  {
   "cell_type": "code",
   "execution_count": 135,
   "metadata": {},
   "outputs": [
    {
     "data": {
      "text/plain": [
       "['Data', 'Scientist', 'Altec', 'Industries,', 'Inc.']"
      ]
     },
     "execution_count": 135,
     "metadata": {},
     "output_type": "execute_result"
    }
   ],
   "source": [
    "#testList[:5]"
   ]
  },
  {
   "cell_type": "code",
   "execution_count": null,
   "metadata": {},
   "outputs": [],
   "source": []
  }
 ],
 "metadata": {
  "kernelspec": {
   "display_name": "Python 3",
   "language": "python",
   "name": "python3"
  },
  "language_info": {
   "codemirror_mode": {
    "name": "ipython",
    "version": 3
   },
   "file_extension": ".py",
   "mimetype": "text/x-python",
   "name": "python",
   "nbconvert_exporter": "python",
   "pygments_lexer": "ipython3",
   "version": "3.6.5"
  }
 },
 "nbformat": 4,
 "nbformat_minor": 2
}
