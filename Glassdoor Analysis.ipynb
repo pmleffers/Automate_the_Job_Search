{
 "cells": [
  {
   "cell_type": "code",
   "execution_count": 2,
   "metadata": {},
   "outputs": [
    {
     "name": "stdout",
     "output_type": "stream",
     "text": [
      "Selenium Version: 3.141.0\n"
     ]
    }
   ],
   "source": [
    "#!pip install selenium\n",
    "import time\n",
    "import pandas as pd\n",
    "import selenium\n",
    "import re\n",
    "import json\n",
    "from random import randint\n",
    "from selenium.webdriver.support.ui import WebDriverWait\n",
    "from selenium.webdriver.common.keys import Keys\n",
    "from selenium import webdriver\n",
    "print('Selenium Version:',selenium.__version__)\n",
    "import datetime"
   ]
  },
  {
   "cell_type": "code",
   "execution_count": 3,
   "metadata": {},
   "outputs": [],
   "source": [
    "with open('SearchResultsDict.json') as json_file:  \n",
    "    data = json.load(json_file)"
   ]
  },
  {
   "cell_type": "code",
   "execution_count": 4,
   "metadata": {},
   "outputs": [
    {
     "name": "stdout",
     "output_type": "stream",
     "text": [
      "Number of observations: 416\n"
     ]
    }
   ],
   "source": [
    "print('Number of observations:',len(data))"
   ]
  },
  {
   "cell_type": "code",
   "execution_count": 5,
   "metadata": {},
   "outputs": [
    {
     "data": {
      "text/plain": [
       "dict_keys(['gla-3055085070-0', 'gla-2953228321-1', 'gla-3012677906-2', 'gla-2996000047-3', 'gla-3036050944-4', 'gla-2859138238-5', 'gla-2859138238-6', 'gla-2983161073-7', 'gla-2996918074-8', 'gla-2950845175-9', 'gla-3065094013-10', 'gla-3065094013-11', 'gla-2965174084-12', 'gla-2965174084-13', 'gla-3049543540-14', 'gla-3047043371-15', 'gla-3047043371-16', 'gla-3068172040-17', 'gla-3055519827-18', 'gla-3055519827-19', 'gla-3075939437-20', 'gla-3075939437-21', 'gla-3002887664-22', 'gla-2957279982-23', 'gla-2957279982-24', 'gla-3071980823-25', 'gla-3071980823-26', 'gla-3067762444-27', 'gla-3049508174-28', 'gla-3049508174-29', 'gla-2936602060-0', 'gla-3015320756-1', 'gla-2979003174-2', 'gla-2822860338-3', 'gla-3071868700-4', 'gla-3055651877-5', 'gla-2941000936-6', 'gla-3042323556-7', 'gla-3042323556-8', 'gla-3053840164-9', 'gla-3053840164-10', 'gla-3058849127-11', 'gla-3058849127-12', 'gla-3049511326-13', 'gla-3059350826-14', 'gla-3042323804-15', 'gla-3042323804-16', 'gla-3062447785-17', 'gla-3068981751-18', 'gla-3068981751-19', 'gla-3066264710-20', 'gla-3070774972-21', 'gla-3070774972-22', 'gla-3057567777-23', 'gla-3057567777-24', 'gla-3064552328-25', 'gla-3055521466-26', 'gla-3055521466-27', 'gla-3055661822-28', 'gla-3025052124-29', 'gla-2682649054-0', 'gla-2679664884-1', 'gla-3062508918-2', 'gla-3054775597-3', 'gla-3070578159-4', 'gla-3070355394-5', 'gla-3070355394-6', 'gla-3061789582-7', 'gla-3071696688-8', 'gla-3071696688-9', 'gla-2674511870-10', 'gla-2674511870-11', 'gla-3065364851-12', 'gla-2937544937-13', 'gla-2937544937-14', 'gla-3049515574-15', 'gla-3060785178-16', 'gla-3060785178-17', 'gla-3049507174-18', 'gla-3049507174-19', 'gla-3075557520-20', 'gla-3049511183-21', 'gla-3049511183-22', 'gla-3074110723-23', 'gla-3074110723-24', 'gla-3060003584-25', 'gla-3049663590-26', 'gla-3058876052-27', 'gla-3058876052-28', 'gla-3057570083-29', 'gla-3072671942-0', 'gla-3052266524-1', 'gla-3064727767-2', 'gla-3049514730-3', 'gla-3068702952-4', 'gla-2960447093-5', 'gla-2960447093-6', 'gla-3049515028-7', 'gla-3049515028-8', 'gla-3049515015-9', 'gla-3049515015-10', 'gla-2988014372-11', 'gla-2988014372-12', 'gla-3068267732-13', 'gla-3042606960-14', 'gla-3049515422-15', 'gla-3065176925-16', 'gla-3065176925-17', 'gla-3050444775-18', 'gla-3048475223-19', 'gla-3048475223-20', 'gla-3055821516-21', 'gla-2724338718-22', 'gla-2724338718-23', 'gla-3016577787-24', 'gla-3016577787-25', 'gla-3074141637-26', 'gla-2955025012-27', 'gla-2955025012-28', 'gla-3066520261-29', 'gla-2857741031-0', 'gla-3056951600-1', 'gla-3049507467-2', 'gla-3057658087-3', 'gla-3049515210-4', 'gla-2897031723-5', 'gla-3063928860-6', 'gla-3009997685-7', 'gla-3009997685-8', 'gla-3064936735-9', 'gla-3060003069-10', 'gla-3060003069-11', 'gla-3064989037-12', 'gla-3064989037-13', 'gla-3060785081-14', 'gla-2996101528-15', 'gla-3072343176-16', 'gla-3072343176-17', 'gla-3051068161-18', 'gla-3057726623-19', 'gla-3057726623-20', 'gla-3050202842-21', 'gla-3050077600-22', 'gla-3050077600-23', 'gla-3064988842-24', 'gla-3064988842-25', 'gla-3023298249-26', 'gla-2986124662-27', 'gla-3049513849-28', 'gla-2956454298-29', 'gla-3047806307-0', 'gla-2778992323-1', 'gla-3068158628-2', 'gla-3072499513-3', 'gla-3009318808-4', 'gla-3044170309-5', 'gla-3044170309-6', 'gla-2906118505-7', 'gla-3066308373-8', 'gla-3066308373-9', 'gla-3058854518-10', 'gla-3066933213-11', 'gla-3066933213-12', 'gla-3064989035-13', 'gla-3064989035-14', 'gla-3072349027-15', 'gla-3050659056-16', 'gla-3050659056-17', 'gla-3009724465-18', 'gla-3009724465-19', 'gla-3060562481-20', 'gla-3058854525-21', 'gla-3058854525-22', 'gla-2990105511-23', 'gla-3072308005-24', 'gla-3072308005-25', 'gla-3049515125-26', 'gla-3049515125-27', 'gla-3060438985-28', 'gla-3056589650-29', 'gla-3053538346-0', 'gla-3059351194-1', 'gla-3072340000-2', 'gla-3067747018-3', 'gla-3067711843-4', 'gla-2987570487-5', 'gla-2987570487-6', 'gla-3029622265-7', 'gla-3029622265-8', 'gla-3030485663-9', 'gla-3059983718-10', 'gla-3059983718-11', 'gla-3075899857-12', 'gla-3075899857-13', 'gla-3047689821-14', 'gla-3047689821-15', 'gla-2894566379-16', 'gla-2894566379-17', 'gla-3055414079-18', 'gla-3069395469-19', 'gla-3069395469-20', 'gla-3042640354-21', 'gla-3042640354-22', 'gla-3042627892-23', 'gla-3042627892-24', 'gla-3068875973-25', 'gla-3067728364-26', 'gla-3067728364-27', 'gla-2983231465-28', 'gla-2983231465-29', 'gla-3060498672-0', 'gla-3072328695-1', 'gla-3057601175-2', 'gla-3028935714-3', 'gla-3064155786-4', 'gla-2998678381-5', 'gla-2998678381-6', 'gla-3073860907-7', 'gla-2900897370-8', 'gla-2900897370-9', 'gla-3056599950-10', 'gla-3056599950-11', 'gla-2989623577-12', 'gla-3073983829-13', 'gla-3076135000-14', 'gla-2988597421-15', 'gla-2988597421-16', 'gla-3072362960-17', 'gla-3064595385-18', 'gla-3064595385-19', 'gla-3011227606-20', 'gla-3011227606-21', 'gla-3064156676-22', 'gla-2943494780-23', 'gla-3063697829-24', 'gla-3063697829-25', 'gla-3066087362-26', 'gla-3049512000-27', 'gla-3065680580-28', 'gla-3063560209-29', 'gla-3029699738-0', 'gla-3058854525-1', 'gla-3069319945-2', 'gla-2948273162-3', 'gla-3021493091-4', 'gla-3051104713-5', 'gla-3051104713-6', 'gla-2990105511-7', 'gla-2990105511-8', 'gla-3006590786-9', 'gla-3006590786-10', 'gla-3067491771-11', 'gla-3071894225-12', 'gla-3075950882-13', 'gla-3010099502-14', 'gla-3010099502-15', 'gla-3056589650-16', 'gla-3056589650-17', 'gla-2998941981-18', 'gla-3060438985-19', 'gla-3053538346-20', 'gla-3053538346-21', 'gla-3067747018-22', 'gla-3072340000-23', 'gla-3072340000-24', 'gla-3067711843-25', 'gla-3069570842-26', 'gla-3069570842-27', 'gla-3072882147-28', 'gla-3073089372-29', 'gla-3030485663-0', 'gla-3029622265-1', 'gla-2873312716-2', 'gla-3057584233-3', 'gla-3070131657-4', 'gla-2951340507-5', 'gla-2951340507-6', 'gla-3042627159-7', 'gla-3042627159-8', 'gla-3024444001-9', 'gla-3024444001-10', 'gla-3047689821-11', 'gla-3047689821-12', 'gla-2940977881-13', 'gla-3065047205-14', 'gla-3065047205-15', 'gla-3018373757-16', 'gla-3066860370-18', 'gla-3041400087-19', 'gla-3041400087-20', 'gla-3069395469-21', 'gla-3042640354-23', 'gla-2877931064-24', 'gla-2877931064-25', 'gla-3052893627-26', 'gla-3021462375-27', 'gla-3021462375-28', 'gla-3068875973-29', 'gla-3042504523-0', 'gla-3033481975-1', 'gla-2900876222-2', 'gla-2930404050-3', 'gla-2894882760-4', 'gla-3067728364-5', 'gla-2983231465-6', 'gla-3068181046-7', 'gla-3068181046-8', 'gla-3067866319-9', 'gla-3067866319-10', 'gla-3006572484-11', 'gla-3057627721-12', 'gla-3057627721-13', 'gla-3072056361-14', 'gla-3063774740-15', 'gla-3063774740-16', 'gla-3060498672-17', 'gla-3060498672-18', 'gla-3057601175-20', 'gla-3064155786-21', 'gla-3064155786-22', 'gla-2998678381-23', 'gla-3073860907-24', 'gla-3063506430-25', 'gla-3063506430-26', 'gla-2910633165-27', 'gla-2910633165-28', 'gla-2910633165-29', 'gla-2987604086-0', 'gla-3056599950-1', 'gla-3047621335-2', 'gla-3064202644-3', 'gla-3073983829-4', 'gla-3060291130-5', 'gla-3060291130-6', 'gla-3060493535-7', 'gla-3060493535-8', 'gla-3076135000-9', 'gla-3072362960-10', 'gla-3072362960-11', 'gla-2963365429-12', 'gla-2963365429-13', 'gla-3066627946-14', 'gla-3064205187-15', 'gla-3064205187-16', 'gla-3061568942-17', 'gla-3061568942-18', 'gla-3011227606-19', 'gla-2943494780-20', 'gla-2943494780-21', 'gla-3066621614-22', 'gla-3064157010-23', 'gla-3064157010-24', 'gla-3069523553-26', 'gla-3069523553-27', 'gla-2947959875-28', 'gla-3032213700-29', 'gla-2977396983-0', 'gla-3063560209-1', 'gla-3055711991-2', 'gla-3065680580-3', 'gla-2930428616-4', 'gla-3004437901-5', 'gla-3004437901-6', 'gla-3066534567-7', 'gla-3066534567-8', 'gla-2999517067-9', 'gla-2999517067-10', 'gla-3003026420-11', 'gla-3065346773-12', 'gla-3025924597-13', 'gla-3064240653-14', 'gla-3057574133-15', 'gla-3057574133-16', 'gla-3070127221-17', 'gla-3070127221-18', 'gla-3048263224-19', 'gla-3059861476-20', 'gla-3059861476-21', 'gla-3014197712-22', 'gla-3014197712-23', 'gla-3009302750-24', 'gla-3045775615-25', 'gla-3045775615-26', 'gla-3056245004-27', 'gla-2996842724-28', 'gla-2996842724-29', 'gla-3029728969-0', 'gla-3064989029-1', 'gla-3045782504-2', 'gla-3058666803-3', 'gla-3066843132-4', 'gla-3072343184-5', 'gla-3067733762-6', 'gla-3067733762-7', 'gla-2962139378-8', 'gla-2930404806-9', 'gla-2930404806-10', 'gla-3067450890-11', 'gla-3067450890-12', 'gla-3022317767-13', 'gla-3022317767-14', 'gla-3059118448-15', 'gla-3059118448-16', 'gla-3056211677-17', 'gla-3073023851-18', 'gla-3034668492-19', 'gla-3034668492-20', 'gla-3061667984-21', 'gla-2926759498-22', 'gla-2926759498-23', 'gla-3002748831-24', 'gla-3002748831-25', 'gla-3024781959-26', 'gla-3024781959-27', 'gla-3033017797-28', 'gla-3033017797-29'])"
      ]
     },
     "execution_count": 5,
     "metadata": {},
     "output_type": "execute_result"
    }
   ],
   "source": [
    "data.keys()"
   ]
  },
  {
   "cell_type": "code",
   "execution_count": 6,
   "metadata": {},
   "outputs": [],
   "source": [
    "dataList=[]\n",
    "lenList=[]\n",
    "for value in data.values():\n",
    "    dataList.append(value)\n",
    "    lenList.append(len(value))"
   ]
  },
  {
   "cell_type": "code",
   "execution_count": 7,
   "metadata": {},
   "outputs": [
    {
     "data": {
      "text/html": [
       "<div>\n",
       "<style scoped>\n",
       "    .dataframe tbody tr th:only-of-type {\n",
       "        vertical-align: middle;\n",
       "    }\n",
       "\n",
       "    .dataframe tbody tr th {\n",
       "        vertical-align: top;\n",
       "    }\n",
       "\n",
       "    .dataframe thead th {\n",
       "        text-align: right;\n",
       "    }\n",
       "</style>\n",
       "<table border=\"1\" class=\"dataframe\">\n",
       "  <thead>\n",
       "    <tr style=\"text-align: right;\">\n",
       "      <th></th>\n",
       "      <th>estimates</th>\n",
       "    </tr>\n",
       "  </thead>\n",
       "  <tbody>\n",
       "    <tr>\n",
       "      <th>count</th>\n",
       "      <td>416.000000</td>\n",
       "    </tr>\n",
       "    <tr>\n",
       "      <th>mean</th>\n",
       "      <td>4198.877404</td>\n",
       "    </tr>\n",
       "    <tr>\n",
       "      <th>std</th>\n",
       "      <td>2565.524301</td>\n",
       "    </tr>\n",
       "    <tr>\n",
       "      <th>min</th>\n",
       "      <td>170.000000</td>\n",
       "    </tr>\n",
       "    <tr>\n",
       "      <th>25%</th>\n",
       "      <td>2860.000000</td>\n",
       "    </tr>\n",
       "    <tr>\n",
       "      <th>50%</th>\n",
       "      <td>3993.000000</td>\n",
       "    </tr>\n",
       "    <tr>\n",
       "      <th>75%</th>\n",
       "      <td>4980.000000</td>\n",
       "    </tr>\n",
       "    <tr>\n",
       "      <th>max</th>\n",
       "      <td>17667.000000</td>\n",
       "    </tr>\n",
       "  </tbody>\n",
       "</table>\n",
       "</div>"
      ],
      "text/plain": [
       "          estimates\n",
       "count    416.000000\n",
       "mean    4198.877404\n",
       "std     2565.524301\n",
       "min      170.000000\n",
       "25%     2860.000000\n",
       "50%     3993.000000\n",
       "75%     4980.000000\n",
       "max    17667.000000"
      ]
     },
     "execution_count": 7,
     "metadata": {},
     "output_type": "execute_result"
    }
   ],
   "source": [
    "pd.DataFrame(lenList,columns={'estimates'}).describe()"
   ]
  },
  {
   "cell_type": "code",
   "execution_count": 8,
   "metadata": {},
   "outputs": [
    {
     "data": {
      "text/html": [
       "<div>\n",
       "<style scoped>\n",
       "    .dataframe tbody tr th:only-of-type {\n",
       "        vertical-align: middle;\n",
       "    }\n",
       "\n",
       "    .dataframe tbody tr th {\n",
       "        vertical-align: top;\n",
       "    }\n",
       "\n",
       "    .dataframe thead th {\n",
       "        text-align: right;\n",
       "    }\n",
       "</style>\n",
       "<table border=\"1\" class=\"dataframe\">\n",
       "  <thead>\n",
       "    <tr style=\"text-align: right;\">\n",
       "      <th></th>\n",
       "      <th>estimates</th>\n",
       "    </tr>\n",
       "  </thead>\n",
       "  <tbody>\n",
       "    <tr>\n",
       "      <th>count</th>\n",
       "      <td>416</td>\n",
       "    </tr>\n",
       "    <tr>\n",
       "      <th>unique</th>\n",
       "      <td>264</td>\n",
       "    </tr>\n",
       "    <tr>\n",
       "      <th>top</th>\n",
       "      <td>Position Details: Data Engineer - (886060Z)\\nL...</td>\n",
       "    </tr>\n",
       "    <tr>\n",
       "      <th>freq</th>\n",
       "      <td>4</td>\n",
       "    </tr>\n",
       "  </tbody>\n",
       "</table>\n",
       "</div>"
      ],
      "text/plain": [
       "                                                estimates\n",
       "count                                                 416\n",
       "unique                                                264\n",
       "top     Position Details: Data Engineer - (886060Z)\\nL...\n",
       "freq                                                    4"
      ]
     },
     "execution_count": 8,
     "metadata": {},
     "output_type": "execute_result"
    }
   ],
   "source": [
    "pd.DataFrame(dataList,columns={'estimates'}).describe()"
   ]
  },
  {
   "cell_type": "code",
   "execution_count": 9,
   "metadata": {},
   "outputs": [
    {
     "data": {
      "text/html": [
       "<div>\n",
       "<style scoped>\n",
       "    .dataframe tbody tr th:only-of-type {\n",
       "        vertical-align: middle;\n",
       "    }\n",
       "\n",
       "    .dataframe tbody tr th {\n",
       "        vertical-align: top;\n",
       "    }\n",
       "\n",
       "    .dataframe thead th {\n",
       "        text-align: right;\n",
       "    }\n",
       "</style>\n",
       "<table border=\"1\" class=\"dataframe\">\n",
       "  <thead>\n",
       "    <tr style=\"text-align: right;\">\n",
       "      <th></th>\n",
       "      <th>Postings</th>\n",
       "      <th>length</th>\n",
       "    </tr>\n",
       "  </thead>\n",
       "  <tbody>\n",
       "    <tr>\n",
       "      <th>0</th>\n",
       "      <td>Our Enterprise Risk department is looking for ...</td>\n",
       "      <td>3131</td>\n",
       "    </tr>\n",
       "    <tr>\n",
       "      <th>1</th>\n",
       "      <td>About FTI Consulting\\n\\nFTI Consulting, Inc. i...</td>\n",
       "      <td>5877</td>\n",
       "    </tr>\n",
       "    <tr>\n",
       "      <th>2</th>\n",
       "      <td>Job Description\\n\\nJob Title: Data Analyst – C...</td>\n",
       "      <td>3613</td>\n",
       "    </tr>\n",
       "    <tr>\n",
       "      <th>3</th>\n",
       "      <td>The Company:\\n\\nWe're a tech company that's ch...</td>\n",
       "      <td>5500</td>\n",
       "    </tr>\n",
       "    <tr>\n",
       "      <th>4</th>\n",
       "      <td>We’re looking for a Senior Data Scientist to j...</td>\n",
       "      <td>3835</td>\n",
       "    </tr>\n",
       "  </tbody>\n",
       "</table>\n",
       "</div>"
      ],
      "text/plain": [
       "                                            Postings  length\n",
       "0  Our Enterprise Risk department is looking for ...    3131\n",
       "1  About FTI Consulting\\n\\nFTI Consulting, Inc. i...    5877\n",
       "2  Job Description\\n\\nJob Title: Data Analyst – C...    3613\n",
       "3  The Company:\\n\\nWe're a tech company that's ch...    5500\n",
       "4  We’re looking for a Senior Data Scientist to j...    3835"
      ]
     },
     "execution_count": 9,
     "metadata": {},
     "output_type": "execute_result"
    }
   ],
   "source": [
    "postings=pd.DataFrame(dataList,columns={'Postings'})\n",
    "postings['length']=lenList\n",
    "postings[:5]"
   ]
  },
  {
   "cell_type": "code",
   "execution_count": 10,
   "metadata": {},
   "outputs": [
    {
     "data": {
      "text/plain": [
       "count      416.000000\n",
       "mean      4198.877404\n",
       "std       2565.524301\n",
       "min        170.000000\n",
       "25%       2860.000000\n",
       "50%       3993.000000\n",
       "75%       4980.000000\n",
       "max      17667.000000\n",
       "Name: length, dtype: float64"
      ]
     },
     "execution_count": 10,
     "metadata": {},
     "output_type": "execute_result"
    }
   ],
   "source": [
    "postings['length'].describe()"
   ]
  },
  {
   "cell_type": "code",
   "execution_count": 11,
   "metadata": {},
   "outputs": [
    {
     "data": {
      "text/plain": [
       "<matplotlib.axes._subplots.AxesSubplot at 0x1416ddc6828>"
      ]
     },
     "execution_count": 11,
     "metadata": {},
     "output_type": "execute_result"
    },
    {
     "data": {
      "image/png": "[encoded data removed]",
      "text/plain": [
       "<Figure size 432x288 with 1 Axes>"
      ]
     },
     "metadata": {},
     "output_type": "display_data"
    }
   ],
   "source": [
    "import matplotlib.pyplot as plt\n",
    "import seaborn as sns\n",
    "\n",
    "%matplotlib inline\n",
    "postings['length'].plot(bins=200, kind='hist') "
   ]
  },
  {
   "cell_type": "code",
   "execution_count": 12,
   "metadata": {},
   "outputs": [
    {
     "data": {
      "text/plain": [
       "\"Data Science Internships\\nPortland, OR or Seattle, WA\\nThese twelve-week internships are scheduled to begin in May/June 2019\\n\\nCambia Health Solutions is working to create a seamless and frictionless health care experience for consumers nationwide. This presents a unique challenge and opportunity for innovative and disruptive solutions from our Artificial Intelligence team.\\nOur Data Scientists design, develop, and implement data-driven solutions using machine learning technologies and advanced statistical analyses. You should be passionate about finding insights in data, comfortable with large and fragmented data sets, and command a variety of analytic tools at your disposal.\\nInternship opportunities are available on the following teams: Natural Language Processing, Deep Learning, Product Development and Clinical Analytics.\\nNatural Language Processing in Seattle, WA\\nOur NLP team is looking for a passionate, talented and inventive NLP Data Science Intern to help build industry-leading speech and language solutions. Together with a highly multi-disciplinary team of scientists, engineers, strategic partners and subject domain experts, you will work on building a real product with natural language processing and machine learning at its core.\\nEssential Function of the NLP Data Scientist Internship:\\nUtilize statistical natural language processing to mine unstructured data and create insights\\nBuild and optimize cutting-edge natural language understanding systems such as conversational agents (chatbots)\\nBuild core in-house NLP components and analytical tools such as document clustering, topic analysis, text classification, named entity recognition, sentiment analysis, and part-of-speech tagging methods for unstructured and semi-structured data\\nIdentify and deploy existing machine learning, natural language processing, and information retrieval techniques and systems for knowledge management and discovery, such as using Electronic Medical Records (EMR) data, progress notes, and discharge summaries to identify admitting diagnosis, reason for consultation, clinical history, etc.Identify ways to analyze consumers’ experiences from various communication channels and improve customer satisfaction\\nCluster and analyze large amounts of user generated content and process data in large-scale environments in Amazon AWS such as EC2, EMR, MapReduce, and PySpark\\nIntegrate the NLP pipeline into the production environment, ensure its scalability, and leverage knowledge gained into other projects, modeling, and work practices\\nDesign novel algorithms for problem solving, which may include data cleaning, feature selection, statistical modeling, data clustering and classification, text processing, and other machine learning techniques, to solve complex healthcare problems presented by healthcare organizations\\nCollaborate with different functional teams within Cambia and externally to find solutions to problems in healthcare\\nKey Qualifications and Experience for the NLP Data Scientist Internship:\\nCurrently enrolled in an undergraduate or graduate degree program focused on Big Data, Computer Science, Data Analytics, Engineering, Math, Statistics, Science or related degree program (preference will be given to graduate students)\\nCandidates who have completed their degree in the last six months are also encouraged to apply\\nStrong analytic and problem-solving skills, including the ability to apply quantitative analysis techniques to business situations including forecasting, descriptive statistics, statistical inference, and multivariate modeling techniques\\nExperience with a good range of NLP techniques, including text processing, tokenization, POS-tagging, parsing, annotation, regular expressions, language modeling, etc.\\nAbility to develop prototypes by manipulating and analyzing complex, high-volume, high-dimensionality data from various sources\\nExpertise in producing, processing, evaluating, and utilizing unstructured/semi-structured data\\nProficiency in open-source NLP and machine learning toolkits such Stanford CoreNLP, NLTK, Gensim, Mallet, OpenNLP, LingPipe, cTAKES, scikit-learn, NumPy, LIBSVM, MLlib, Theano, TensorFlow, etc.\\nSolid background in statistical learning and clustering techniques for NLP such as HMM, CRF, SVM, MaxEnt, LDA, LSI, and K-Means\\nMust have ML/NLP algorithm implementation experience as well as the ability to modify standard algorithms, e.g., change objective functions, work out the math, and implement\\nPractical ability to visualize data, communicate about data, and utilize data effectively\\nProficiency in SQL relational databases and/or NoSQL databases\\nAbility to think creatively and to work well both as part of a team and as an individual contributor\\nEager to learn new algorithms, new application areas, and new tools\\nExcellent oral and written communication skills to effectively interface and communicate with a broad array of internal and external contacts including leadership\\nStrong programming skills in at least one object oriented programming language, e.g., Java, Python, C++, Scala, etc.\\nFluency with Linux/Unix\\nRequired minimum cumulative undergraduate GPA of 3.0\\nDeep Learning in Portland, OR\\nThe Deep Learning team is looking for brilliant internship candidates in machine learning (ML) and data science with strong software engineering skills, or research background in ML, convex optimization or deep learning.\\nThe Deep Learning Data Science Intern will join a team that carries out applied research in ML. It designs, develops and deploys models to serve the rest of Cambia. Our team has developed and applied various ML algorithms and solutions including neural networks, regression models, decision tree-based algorithms, graphical and topic models and time series analyses for various healthcare problems. This team tackles hard issues in healthcare and tries to solve them by the state-of-the-art ML techniques. If the existing methods are not good enough, then we build better ones.\\nEssential Function of the Deep Learning Data Scientist Internship:\\nWorking with large data sets in distributed storages and designing analytical approaches\\nUnderstanding the concepts and building algorithms in the healthcare domain.\\nHaving a broad and deep knowledge of ML methods to make contributions to the future roadmap for the healthcare problem solving platform.\\nApplying coding skills and knowledge data structures and algorithms to develop projects in partnership with other scientists & engineers in the team.\\nAdapt machine learning (e.g. neural network) algorithms to best exploit modern parallel environments (e.g. EC2 with GPU)\\nKey Qualifications and Experience for the Deep Learning Data Scientist Internship:\\nRecent graduate or currently enrolled in graduate degree program focused on machine learning, big data, computer science, statistics, bioinformatics, computational linguistics or other related programs. (Individuals who have completed their degree in the last eighteen months are also encouraged to apply.)\\nMinimum 3.0 cumulative undergraduate grade point average\\nBroad and deep knowledge of machine learning, or deep learning research background.\\nExperience with modern deep learning frameworks (e.g. Tensorflow/Theano/Pytorch/CNTK).\\nProgramming proficiency in Python, C/C++, Java, and/or C#.\\nAble to query and manipulate structured and unstructured data using SQL, Hadoop (Spark, HIVE, PIG), and / or scripting languages.\\nInterest and passion for deep learning and distributed representations.\\nDemonstrated ability to analyze large datasets.\\nPractical ability to visualize data, to communicate effectively about data, and to use data effectively\\nInterpersonal skills, cross-group and cross-culture collaboration\\nProblem solving ability and proven track record of achieving results\\nPrevious software engineer experience (can be from a previous internship, work experience, coding competitions, or publications).\\nExcellent oral and written communication skills\\nAbility to think creatively, and to work well both as part of a team and as an individual contributor\\nDemonstrated ability to work with minimal direction, with the ability to coordinate complex activities\\nProduct Development in Portland, OR\\nThe Data Science Product Management Intern will contribute to our team’s focus on comprehensive product strategy from product conception and definition through the product lifecycle. Our small agile team draws from the data science & advanced analytics background of our team members to deliver on all phases of product development from competitive market analysis and ideation, through strategy creation and execution, and ongoing monitoring and communication of implementation tactics and results.\\nEssential Function of the Product Development Data Scientist Internship:\\nDocument initiatives with marketing, UX, engineering, data science & advanced analytics team\\nUnderstands the target market and primary user needs for a product\\nAssist in the timely completion of product analyses, business case development, user experience design and research, development of formal product plans, presentations, implementation of product changes/new products, and coordinating development and launch activities with the data science, advanced analytics & engineering teams\\nSynthesize business requirements from multiple sources including or may include customer segments, healthcare product experts, brokers, and sales teams into requirement documents and agile project plans\\nDefine the feature sets, and business requirements from multiple sources, focusing on the success criteria and the product roadmap (short term & long term)\\nMay assist with market research by working with internal teams and visits to customers and other relevant companies with an emphasis on data science & analytic solutions\\nAssist with products life-cycle from planning to tactical activities to cross company go to market planning\\nCollaborates with team members to develop and deploy strategies for improving customer acquisition, engagement, and retention\\nAssist in identifying, reporting, tracking and resolving issues in a timely manner\\nKey Qualifications and Experience for the Deep Learning Data Scientist Internship:\\nUnderstanding of advanced analytics (e.g., statistics, simulation, optimization) and methods such as time series analysis, longitudinal studies, and life event modeling, as well as data mining methodologies, natural language processing, and machine learning algorithms (e.g. regression, clustering, neural networks, kernel methods, dimensionality reduction, ensemble methods, decision tree methods)\\nPrior knowledge creating successful data-driven products based on a balance of user needs, business goals, and technical constraints\\nPrior experience working with groups of diverse stakeholders; prior experience building consensus a plus\\nPractical ability to visualize data and analytical results, and excellent communication skills to effectively collaborate and communicate with a broad array of internal and external contacts\\nExcellent oral and written communication skills to effectively interface and communicate with a broad array of internal and external contacts including leadership\\nDemonstrated ability to work with minimal direction, with the ability to coordinate complex activities & obtain resources needed to move initiatives forward, in additional to the ability to work within cross-functional teams\\nKnowledge of Agile methodology and product management best practices a plus\\nDemonstrated excellent attention to detail including proven ability to manage multiple projects and priorities simultaneously\\nAbility to learn new technology concepts quickly, think strategically and execute methodically while working in a fast-paced environment where continuous innovation is desired\\nCurrently enrolled through spring 2018 in a graduate program focused on Analytics, Computer Science, Data Science, Econometrics, Engineering, Healthcare-related fields, Mathematics, Operations Research, Physics, Product Management, Statistics, or related graduate degree program\\nMinimum 3.0 cumulative undergraduate grade point average\\nData Science Clinical Analytics in Portland, OR\\nThe Data Science Clinical Analytics Intern will contribute to our team’s focus on designing, developing, and implementing data-driven clinical solutions using advanced statistical analyses. Our small agile team draws from the background of our team members to deliver insightful expertise with the goal of delivering data-driven clinical solutions across the organization.\\nIn addition to quantitative and clinical mastery, the ideal candidate will assist our team by effectively working with business partners to identify problems, design novel solutions, interpret and communicate analytical results to varied audiences, and provide analytic support for companywide process improvement efforts.\\nEssential Function of the Data Science Clinical Analytics Data Scientist Internship:\\nResearch, design, develop, and implement data driven solutions using advanced statistical methods\\nWork as a key part of cross-functional teams with various customer groups to study business cases, identify business problems and formulate desired outcomes and solutions\\nAssess existing and identify new sources of data relevant to the problems being investigated, apply statistical data quality procedures to new data sources\\nGenerate and test working hypotheses: aggregate and mine data, conduct analyses, and extract actionable results\\nPerform data studies and discovery around new data sources or new uses for existing sources by designing and building large and complex data sets\\nCollect, measure, and interpret process performance data; using tools such as Pareto charts, flow charts, process maps, Cause and Effect diagrams, scatter plots, histograms, and control charts\\nPerform statistical analyses with existing data sets. From results, create visual representations and summary reports of data findings in a variety of formats. Create influential dashboards and presentations that use information to influence senior leadership on business trends and strategies.\\nPrepare and present regular and ad-hoc analysis to internal audiences involved with decisions\\nKey Qualifications and Experience for the Deep Learning Data Scientist Internship:\\nStrong educational background in healthcare fields\\nExperience in working with cross-functional team during full project life cycle\\nPossess the ability to think creatively and demonstrate analytical skills, analyzing complex situations both alone and as part of a team, learning quickly and synthesizing solutions, options and action plans\\nUnderstanding of advanced analytics (e.g., statistics, simulation, optimization) and methods such as time series analysis, longitudinal and cross-sectional analysis, and life-event modeling\\nExperience with cleaning, aggregating, and pre-processing data from varied sources\\nDemonstrated ability to analyze and interpret qualitative data (research, feedback) and incorporate such insights into quantitative analyses\\nPractical ability to visualize data and analytical results, and excellent communication skills to effectively collaborate and communicate with a broad array of internal and external contacts\\nExperience with at least one statistical/analytical programming tool (R, Python, SAS , etc.)\\nCoursework or practical experience developing analytical models and algorithms\\nDemonstrated ability to apply quantitative analysis techniques to business situations including forecasting, descriptive statistics, statistical inference, and multivariate modeling techniques\\nStrong facilitation skills, including the ability to resolve issues and build consensus among groups of diverse stakeholders\\nProven ability to provide analysis and data interpretation in support of strategy development, program implementation and evaluation\\nCurrently enrolled through spring 2018 in a graduate program focused on Analytics, Computer Science, Data Science, Econometrics, Engineering, Healthcare-related fields, Mathematics, Operations Research, Physics, Product Management, Statistics, or related graduate degree program\\nMinimum 3.0 cumulative undergraduate grade point average\\n\\nAt Cambia, we advocate for transforming the health care system. You aren’t satisfied with the status quo and neither are we. We're looking for individuals who are as passionate as we are about transforming the way people experience health care. We offer a competitive salary and a generous benefits package. We are an equal opportunity employer dedicated to workforce diversity and a drug and tobacco-free workplace. All qualified applicants will receive consideration for employment without regard to race, color, national origin, religion, age, sex, sexual orientation, gender identity, disability, protected veteran status or any other status protected by law. A drug screen and background check is required.\\nCambia’s portfolio of companies spans health care information technology and software development; retail health care; health insurance plans that carry the Blue Cross and Blue Shield brands; pharmacy benefit management; life, disability, dental, vision and other lines of protection; alternative solutions to health care access; and free-standing health and wellness solutions.\\nWe have a century of experience in developing and providing health solutions to serve our members. We had our beginnings in the logging communities of the Pacific Northwest as innovators in helping workers afford health care. That pioneering spirit has kept us at the forefront as we build new avenues to improve access to and quality of health care for the future.\""
      ]
     },
     "execution_count": 12,
     "metadata": {},
     "output_type": "execute_result"
    }
   ],
   "source": [
    "postings[postings['length'] == 17667]['Postings'].iloc[0]"
   ]
  },
  {
   "cell_type": "code",
   "execution_count": 13,
   "metadata": {},
   "outputs": [],
   "source": [
    "def scrubadub(variable):\n",
    "    myList=(list(variable))\n",
    "    clean=[]\n",
    "    for i in range(0,len(myList)):\n",
    "        #Regular expressions for removing web addresses\n",
    "        url_reg  = r'[a-z]*[:.]+\\S+'\n",
    "        #and replacing with nothing\n",
    "        url_text=re.sub(url_reg, '', myList[i])\n",
    "        sep = \" \"\n",
    "        junk = re.findall(r\"(?i)\\b[a-z]+\\b\", url_text)\n",
    "        #join the seperated words\n",
    "        junk = sep.join(junk)\n",
    "        #remove _s_ spaces from text after punctuation removal\n",
    "        S_space = re.sub(r' s ','',junk)\n",
    "        clean.append(S_space)\n",
    "    return clean"
   ]
  },
  {
   "cell_type": "code",
   "execution_count": 14,
   "metadata": {},
   "outputs": [],
   "source": [
    "postTest=data['gla-2953228321-1'].lower()"
   ]
  },
  {
   "cell_type": "code",
   "execution_count": 15,
   "metadata": {},
   "outputs": [],
   "source": [
    "postTest=postTest.split()"
   ]
  },
  {
   "cell_type": "code",
   "execution_count": 16,
   "metadata": {},
   "outputs": [
    {
     "name": "stdout",
     "output_type": "stream",
     "text": [
      "Unique words:  437\n"
     ]
    }
   ],
   "source": [
    "print('Unique words: ',len(pd.Series(postTest).unique()))"
   ]
  },
  {
   "cell_type": "code",
   "execution_count": 17,
   "metadata": {},
   "outputs": [],
   "source": [
    "PostText=scrubadub(postTest)"
   ]
  },
  {
   "cell_type": "code",
   "execution_count": 18,
   "metadata": {},
   "outputs": [
    {
     "name": "stdout",
     "output_type": "stream",
     "text": [
      "Length of posting:  773\n"
     ]
    }
   ],
   "source": [
    "print('Length of posting: ',len(PostText))"
   ]
  },
  {
   "cell_type": "code",
   "execution_count": 37,
   "metadata": {},
   "outputs": [],
   "source": [
    "def text_process(mess):\n",
    "    \"\"\"\n",
    "    Takes in a string of text, then performs the following:\n",
    "    1. Remove all punctuation\n",
    "    2. Remove all stopwords\n",
    "    3. Returns a list of the cleaned text\n",
    "    \"\"\"\n",
    "    # Check characters to see if they are in punctuation\n",
    "    nopunc = [char for char in mess if char not in string.punctuation]\n",
    "\n",
    "    # Join the characters again to form the string.\n",
    "    nopunc = ''.join(nopunc)\n",
    "    \n",
    "    # Now just remove any stopwords\n",
    "    return [word for word in nopunc.split() if word.lower() not in stopwords.words('english')]"
   ]
  },
  {
   "cell_type": "code",
   "execution_count": 38,
   "metadata": {},
   "outputs": [
    {
     "data": {
      "text/html": [
       "<div>\n",
       "<style scoped>\n",
       "    .dataframe tbody tr th:only-of-type {\n",
       "        vertical-align: middle;\n",
       "    }\n",
       "\n",
       "    .dataframe tbody tr th {\n",
       "        vertical-align: top;\n",
       "    }\n",
       "\n",
       "    .dataframe thead th {\n",
       "        text-align: right;\n",
       "    }\n",
       "</style>\n",
       "<table border=\"1\" class=\"dataframe\">\n",
       "  <thead>\n",
       "    <tr style=\"text-align: right;\">\n",
       "      <th></th>\n",
       "      <th>Postings</th>\n",
       "      <th>length</th>\n",
       "    </tr>\n",
       "  </thead>\n",
       "  <tbody>\n",
       "    <tr>\n",
       "      <th>0</th>\n",
       "      <td>Our Enterprise Risk department is looking for ...</td>\n",
       "      <td>3131</td>\n",
       "    </tr>\n",
       "    <tr>\n",
       "      <th>1</th>\n",
       "      <td>About FTI Consulting\\n\\nFTI Consulting, Inc. i...</td>\n",
       "      <td>5877</td>\n",
       "    </tr>\n",
       "    <tr>\n",
       "      <th>2</th>\n",
       "      <td>Job Description\\n\\nJob Title: Data Analyst – C...</td>\n",
       "      <td>3613</td>\n",
       "    </tr>\n",
       "    <tr>\n",
       "      <th>3</th>\n",
       "      <td>The Company:\\n\\nWe're a tech company that's ch...</td>\n",
       "      <td>5500</td>\n",
       "    </tr>\n",
       "    <tr>\n",
       "      <th>4</th>\n",
       "      <td>We’re looking for a Senior Data Scientist to j...</td>\n",
       "      <td>3835</td>\n",
       "    </tr>\n",
       "  </tbody>\n",
       "</table>\n",
       "</div>"
      ],
      "text/plain": [
       "                                            Postings  length\n",
       "0  Our Enterprise Risk department is looking for ...    3131\n",
       "1  About FTI Consulting\\n\\nFTI Consulting, Inc. i...    5877\n",
       "2  Job Description\\n\\nJob Title: Data Analyst – C...    3613\n",
       "3  The Company:\\n\\nWe're a tech company that's ch...    5500\n",
       "4  We’re looking for a Senior Data Scientist to j...    3835"
      ]
     },
     "execution_count": 38,
     "metadata": {},
     "output_type": "execute_result"
    }
   ],
   "source": [
    "postings.head()"
   ]
  },
  {
   "cell_type": "code",
   "execution_count": null,
   "metadata": {},
   "outputs": [],
   "source": [
    "postings['Postings'].head(5).apply(text_process)"
   ]
  },
  {
   "cell_type": "code",
   "execution_count": 23,
   "metadata": {},
   "outputs": [],
   "source": [
    "import string\n",
    "from nltk.corpus import stopwords"
   ]
  },
  {
   "cell_type": "code",
   "execution_count": 24,
   "metadata": {},
   "outputs": [],
   "source": [
    "stopwords.words('english')[0:10] \n",
    "#Space to specify word I want to remove\n",
    "RemoveWords=[]\n",
    "for i in stopwords.words('english'):\n",
    "    RemoveWords.append(i)"
   ]
  },
  {
   "cell_type": "code",
   "execution_count": 25,
   "metadata": {},
   "outputs": [],
   "source": [
    "# Now just remove any stopwords\n",
    "clean_mess = [word for word in PostText if word.lower() not in RemoveWords]"
   ]
  },
  {
   "cell_type": "code",
   "execution_count": 26,
   "metadata": {},
   "outputs": [
    {
     "data": {
      "text/plain": [
       "consulting    12\n",
       "data          11\n",
       "fti            9\n",
       "financial      8\n",
       "accounting     8\n",
       "skills         7\n",
       "business       7\n",
       "economic       6\n",
       "analytical     6\n",
       "client         6\n",
       "dtype: int64"
      ]
     },
     "execution_count": 26,
     "metadata": {},
     "output_type": "execute_result"
    }
   ],
   "source": [
    "clean_mess = list(filter(None, clean_mess))\n",
    "WordFequency=pd.Series(clean_mess).value_counts()\n",
    "WordFequency[:10]"
   ]
  },
  {
   "cell_type": "code",
   "execution_count": 27,
   "metadata": {},
   "outputs": [],
   "source": [
    "from sklearn.feature_extraction.text import CountVectorizer"
   ]
  },
  {
   "cell_type": "code",
   "execution_count": 28,
   "metadata": {},
   "outputs": [
    {
     "name": "stdout",
     "output_type": "stream",
     "text": [
      "9287\n"
     ]
    }
   ],
   "source": [
    "bow_transformer = CountVectorizer(analyzer=text_process).fit(postings['Postings'])\n",
    "\n",
    "# Print total number of vocab words\n",
    "print(len(bow_transformer.vocabulary_))"
   ]
  },
  {
   "cell_type": "code",
   "execution_count": 29,
   "metadata": {},
   "outputs": [
    {
     "data": {
      "text/plain": [
       "\"Our Enterprise Risk department is looking for a Quantitative Data Analyst to join their team. In this role, you will be responsible for developing and presenting enterprise risk models and write and execute code proficiently to create and produce monthly and quarterly risk reports. Qualified candidates will have 3 years of experience applying and developing analytical methods, including data mining techniques and statistical modeling. Having previous experience with quantitative modeling and BI tools, including SQL, Python, Tableau, SAS, and/or R will help you succeed.\\n\\nHere’s what you can expect from the job and what you need to be successful:\\n\\nJob Duties:\\nPerform modeling and model validation activities as per SR 11-7 guidance to mitigate model risk\\nExecute effective challenge on data and model validation activities. Analyze and challenge the data used in model development, data extraction and transformation, data quality and control, assessment of underlying theory used in model design, and perform statistical test to assess model performance and stability, including back-testing, sensitivity analysis and bench marking\\nTranslate complex statistical and data issue findings into issue mitigation plan understandable by business leaders\\nAggregate data from multiple source systems and prepare presentations for senior management and business lines\\nResearch and analyze root causes of identified risk trends. Access other reporting, data, or productions systems to research root causes of trends or validate data integrity\\nDocument model and data validation results and resolve identified issues in partnership with business lines\\nEssential Skills:\\n2-3 years of working experience in banking or financial services as a Data Scientist, Statistician, Quantitative Risk Analyst, Model Developer, Model Validator, or similar\\nAdvanced understanding of statistical modeling, econometric forecasting, machine learning, data extraction and processing techniques; and demonstrated ability to apply such methods\\nExperience using analytics tools, including SAS, Python, R, and/or Matlab, Excel VBA and SQL, and Tableau experience is a plus\\nKnowledge of regulatory requirements related to model risk management and data integrity\\nStrong analytical and problem solving skills with an exemplary attention to detail\\nExemplary communication skills; oral and written, with ability to translate complex statistical and quantitative analysis into simple real-real world inferences for business teams and senior management\\nAbility to operate as a self-starter who is highly organized and works well independently or within a team environment\\nAbility to work efficiently and prioritize projects in a fast-paced environment with tight deadlines and high volume peaks while producing high-quality work\\nEducation: Master's degree in economics, mathematics, statistics, financial engineering, quantitative finance, or actuarial sciences. Doctoral degree preferred. Will accept any suitable combination of education, experience, or training\\n\\nLocation: Hillsboro, OR 97124\\n\\nFirst Tech is not currently offering Visa sponsorship or transfers\""
      ]
     },
     "execution_count": 29,
     "metadata": {},
     "output_type": "execute_result"
    }
   ],
   "source": [
    "post1=postings['Postings'][0]\n",
    "post1"
   ]
  },
  {
   "cell_type": "code",
   "execution_count": 30,
   "metadata": {},
   "outputs": [
    {
     "name": "stdout",
     "output_type": "stream",
     "text": [
      "(1, 9287)\n"
     ]
    }
   ],
   "source": [
    "bow1 = bow_transformer.transform([post1])\n",
    "print(bow1.shape)"
   ]
  },
  {
   "cell_type": "code",
   "execution_count": 31,
   "metadata": {},
   "outputs": [
    {
     "data": {
      "text/plain": [
       "<1x9287 sparse matrix of type '<class 'numpy.int64'>'\n",
       "\twith 226 stored elements in Compressed Sparse Row format>"
      ]
     },
     "execution_count": 31,
     "metadata": {},
     "output_type": "execute_result"
    }
   ],
   "source": [
    "bow1"
   ]
  },
  {
   "cell_type": "code",
   "execution_count": 32,
   "metadata": {},
   "outputs": [
    {
     "name": "stdout",
     "output_type": "stream",
     "text": [
      "Ability\n",
      "Analyst\n",
      "Data\n",
      "Model\n",
      "Python\n",
      "Quantitative\n",
      "R\n",
      "Risk\n",
      "SAS\n",
      "SQL\n",
      "Tableau\n",
      "ability\n",
      "activities\n",
      "analysis\n",
      "analytical\n",
      "andor\n",
      "business\n",
      "causes\n",
      "challenge\n",
      "complex\n",
      "data\n",
      "degree\n",
      "developing\n",
      "environment\n",
      "experience\n",
      "extraction\n",
      "financial\n",
      "identified\n",
      "including\n",
      "integrity\n",
      "issue\n",
      "lines\n",
      "management\n",
      "methods\n",
      "model\n",
      "modeling\n",
      "quantitative\n",
      "risk\n",
      "root\n",
      "senior\n",
      "skills\n",
      "statistical\n",
      "systems\n",
      "team\n",
      "techniques\n",
      "tools\n",
      "trends\n",
      "used\n",
      "validation\n",
      "work\n",
      "years\n"
     ]
    }
   ],
   "source": [
    "for i in range(0,226):\n",
    "    if bow1.data[i]>1:\n",
    "        num=bow1.indices[i]\n",
    "        print(bow_transformer.get_feature_names()[num])"
   ]
  },
  {
   "cell_type": "code",
   "execution_count": 33,
   "metadata": {},
   "outputs": [
    {
     "name": "stdout",
     "output_type": "stream",
     "text": [
      "Shape of Sparse Matrix:  (416, 9287)\n",
      "Amount of Non-Zero occurences:  116372\n",
      "sparsity: 3.01%\n"
     ]
    }
   ],
   "source": [
    "postings_bow = bow_transformer.transform(postings['Postings'])\n",
    "print('Shape of Sparse Matrix: ', postings_bow.shape)\n",
    "print('Amount of Non-Zero occurences: ', postings_bow.nnz)\n",
    "print('sparsity: %.2f%%' % (100.0 * postings_bow.nnz / (postings_bow.shape[0] * postings_bow.shape[1])))"
   ]
  },
  {
   "cell_type": "code",
   "execution_count": 34,
   "metadata": {},
   "outputs": [],
   "source": [
    "from sklearn.feature_extraction.text import TfidfTransformer"
   ]
  },
  {
   "cell_type": "code",
   "execution_count": 35,
   "metadata": {},
   "outputs": [
    {
     "name": "stdout",
     "output_type": "stream",
     "text": [
      "  (0, 9240)\t0.033186664942407816\n",
      "  (0, 9224)\t0.02708840062055124\n",
      "  (0, 9222)\t0.05271768193198243\n",
      "  (0, 9212)\t0.029462020760297483\n",
      "  (0, 9202)\t0.04634912713816338\n",
      "  (0, 9191)\t0.01982180545391795\n",
      "  (0, 9181)\t0.03144484576573651\n",
      "  (0, 9173)\t0.02439500851376258\n",
      "  (0, 9124)\t0.026998180412240447\n",
      "  (0, 9079)\t0.051515288908362246\n",
      "  (0, 9004)\t0.1467459833939888\n",
      "  (0, 9001)\t0.06252402302876148\n",
      "  (0, 8985)\t0.024693715220042715\n",
      "  (0, 8976)\t0.08358259658210648\n",
      "  (0, 8923)\t0.025713946822508355\n",
      "  (0, 8922)\t0.08379630060790604\n",
      "  (0, 8918)\t0.06011424087138882\n",
      "  (0, 8873)\t0.07249974382143808\n",
      "  (0, 8855)\t0.04989482836915982\n",
      "  (0, 8846)\t0.05716490587257985\n",
      "  (0, 8844)\t0.07463482931773825\n",
      "  (0, 8835)\t0.034238320849186606\n",
      "  (0, 8793)\t0.03871959541542981\n",
      "  (0, 8756)\t0.04989482836915982\n",
      "  (0, 8717)\t0.06547335802757046\n",
      "  :\t:\n",
      "  (0, 1630)\t0.07463482931773825\n",
      "  (0, 1414)\t0.06927571216155662\n",
      "  (0, 1342)\t0.017051297342474816\n",
      "  (0, 1337)\t0.08379630060790604\n",
      "  (0, 1334)\t0.07168549431892926\n",
      "  (0, 1327)\t0.043556210641814634\n",
      "  (0, 1304)\t0.0547551237152072\n",
      "  (0, 1286)\t0.04939600655902557\n",
      "  (0, 1229)\t0.04487903465077877\n",
      "  (0, 1176)\t0.052102817153461746\n",
      "  (0, 1152)\t0.0547551237152072\n",
      "  (0, 1151)\t0.08379630060790604\n",
      "  (0, 1110)\t0.05336255173859367\n",
      "  (0, 1012)\t0.03558365782379127\n",
      "  (0, 517)\t0.04151876885858987\n",
      "  (0, 390)\t0.045593652425039405\n",
      "  (0, 384)\t0.07074847984562081\n",
      "  (0, 336)\t0.08379630060790604\n",
      "  (0, 326)\t0.033336798139585636\n",
      "  (0, 289)\t0.05905629965932761\n",
      "  (0, 282)\t0.047074750473469075\n",
      "  (0, 232)\t0.08379630060790604\n",
      "  (0, 132)\t0.031699589286592965\n",
      "  (0, 121)\t0.06723827037833185\n",
      "  (0, 30)\t0.08379630060790604\n"
     ]
    }
   ],
   "source": [
    "tfidf_transformer = TfidfTransformer().fit(postings_bow)\n",
    "tfidf1 = tfidf_transformer.transform(bow1)\n",
    "print(tfidf1)"
   ]
  },
  {
   "cell_type": "code",
   "execution_count": 36,
   "metadata": {},
   "outputs": [
    {
     "name": "stdout",
     "output_type": "stream",
     "text": [
      "(416, 9287)\n"
     ]
    }
   ],
   "source": [
    "postings_tfidf = tfidf_transformer.transform(postings_bow)\n",
    "print(postings_tfidf.shape)"
   ]
  },
  {
   "cell_type": "code",
   "execution_count": null,
   "metadata": {},
   "outputs": [],
   "source": []
  },
  {
   "cell_type": "code",
   "execution_count": null,
   "metadata": {},
   "outputs": [],
   "source": []
  }
 ],
 "metadata": {
  "kernelspec": {
   "display_name": "Python 3",
   "language": "python",
   "name": "python3"
  },
  "language_info": {
   "codemirror_mode": {
    "name": "ipython",
    "version": 3
   },
   "file_extension": ".py",
   "mimetype": "text/x-python",
   "name": "python",
   "nbconvert_exporter": "python",
   "pygments_lexer": "ipython3",
   "version": "3.6.5"
  }
 },
 "nbformat": 4,
 "nbformat_minor": 2
}
