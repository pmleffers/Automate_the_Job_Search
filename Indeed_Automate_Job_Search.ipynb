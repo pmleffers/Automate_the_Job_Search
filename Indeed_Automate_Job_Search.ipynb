{
 "cells": [
  {
   "cell_type": "markdown",
   "metadata": {},
   "source": [
    "**Import Packages**"
   ]
  },
  {
   "cell_type": "code",
   "execution_count": 164,
   "metadata": {},
   "outputs": [
    {
     "name": "stdout",
     "output_type": "stream",
     "text": [
      "Selenium Version: 3.141.0\n"
     ]
    }
   ],
   "source": [
    "#!pip install selenium\n",
    "import selenium\n",
    "from selenium.webdriver.common.keys import Keys\n",
    "import time\n",
    "import re\n",
    "from selenium import webdriver\n",
    "print('Selenium Version:',selenium.__version__)"
   ]
  },
  {
   "cell_type": "markdown",
   "metadata": {},
   "source": [
    "Using: \n",
    "\n",
    "    Selenium Version: 3.141.0\n",
    "    Firefox Version: 60.0.1 (64-bit)\n",
    "    geckodriver-v0.23.0-win64.zip"
   ]
  },
  {
   "cell_type": "markdown",
   "metadata": {},
   "source": [
    "**1. Go to website**\n",
    "    - For indeed I went directly to sign-in page\n",
    "    - 'Inspect Element' and find the sign-in element"
   ]
  },
  {
   "cell_type": "code",
   "execution_count": 165,
   "metadata": {},
   "outputs": [],
   "source": [
    "driver = webdriver.Firefox()\n",
    "driver.get(\"https://secure.indeed.com/account/login?service=my&hl=en_US&co=US&continue=https%3A%2F%2Fwww.indeed.com%2F\")\n",
    "# Wait for 10 seconds\n",
    "time.sleep(10)"
   ]
  },
  {
   "cell_type": "markdown",
   "metadata": {},
   "source": [
    "Find Username and Password Fields"
   ]
  },
  {
   "cell_type": "code",
   "execution_count": 166,
   "metadata": {},
   "outputs": [],
   "source": [
    "username = driver.find_element_by_id(\"signin_email\")\n",
    "password = driver.find_element_by_id(\"signin_password\")"
   ]
  },
  {
   "cell_type": "markdown",
   "metadata": {},
   "source": [
    "Insert Username and Passord"
   ]
  },
  {
   "cell_type": "code",
   "execution_count": 167,
   "metadata": {},
   "outputs": [],
   "source": [
    "username.send_keys(\"myEmailAddress@email.com\")#Insert Username and Password into fields\n",
    "password.send_keys(\"myvoiceismypassportverify.\")"
   ]
  },
  {
   "cell_type": "markdown",
   "metadata": {},
   "source": [
    "Find Submit/Sign-in button and click"
   ]
  },
  {
   "cell_type": "code",
   "execution_count": 168,
   "metadata": {},
   "outputs": [],
   "source": [
    "driver.find_element_by_class_name(\"icl-Button.icl-Button--primary.icl-Button--md.icl-Button--block\").click()\n",
    "# Wait for 5 seconds\n",
    "time.sleep(5)"
   ]
  },
  {
   "cell_type": "markdown",
   "metadata": {},
   "source": [
    "Find Job Searchbar"
   ]
  },
  {
   "cell_type": "code",
   "execution_count": 169,
   "metadata": {},
   "outputs": [],
   "source": [
    "searchbar=driver.find_element_by_id(\"text-input-what\")"
   ]
  },
  {
   "cell_type": "markdown",
   "metadata": {},
   "source": [
    "Insert text into search field"
   ]
  },
  {
   "cell_type": "code",
   "execution_count": 170,
   "metadata": {},
   "outputs": [],
   "source": [
    "searchbar.send_keys(\"Data Science\")"
   ]
  },
  {
   "cell_type": "markdown",
   "metadata": {},
   "source": [
    "Click on search link"
   ]
  },
  {
   "cell_type": "code",
   "execution_count": 171,
   "metadata": {},
   "outputs": [],
   "source": [
    "driver.find_element_by_class_name(\"icl-Button.icl-Button--primary.icl-Button--md.icl-WhatWhere-button\").click()\n",
    "# Wait for 10 seconds\n",
    "time.sleep(10)"
   ]
  },
  {
   "cell_type": "markdown",
   "metadata": {},
   "source": [
    "Results information"
   ]
  },
  {
   "cell_type": "code",
   "execution_count": 172,
   "metadata": {},
   "outputs": [
    {
     "data": {
      "text/plain": [
       "'Page 1 of 140 jobs'"
      ]
     },
     "execution_count": 172,
     "metadata": {},
     "output_type": "execute_result"
    }
   ],
   "source": [
    "pages=driver.find_element_by_id('searchCount')\n",
    "pages.text"
   ]
  },
  {
   "cell_type": "code",
   "execution_count": 173,
   "metadata": {},
   "outputs": [
    {
     "name": "stdout",
     "output_type": "stream",
     "text": [
      "Number of results on first page: 18\n"
     ]
    }
   ],
   "source": [
    "linkList=driver.find_elements_by_class_name(\"jobsearch-SerpJobCard.row.result.clickcard\")\n",
    "print('Number of results on first page:',len(linkList))\n",
    "# Wait for 5 seconds\n",
    "time.sleep(5)"
   ]
  },
  {
   "cell_type": "markdown",
   "metadata": {},
   "source": [
    "Find search results"
   ]
  },
  {
   "cell_type": "markdown",
   "metadata": {},
   "source": [
    "Select first search result"
   ]
  },
  {
   "cell_type": "code",
   "execution_count": 174,
   "metadata": {},
   "outputs": [
    {
     "name": "stdout",
     "output_type": "stream",
     "text": [
      "Data Engineer, AWS | Fortune 100 Retailer\n"
     ]
    }
   ],
   "source": [
    "linkList=driver.find_elements_by_id('sja1')\n",
    "print(linkList[0].text)"
   ]
  },
  {
   "cell_type": "code",
   "execution_count": 175,
   "metadata": {},
   "outputs": [],
   "source": [
    "linkList[0].click()\n",
    "time.sleep(5)"
   ]
  },
  {
   "cell_type": "code",
   "execution_count": 176,
   "metadata": {
    "scrolled": true
   },
   "outputs": [
    {
     "name": "stdout",
     "output_type": "stream",
     "text": [
      "BICP, a dedicated BI, Analytics & Big Data consulting firm, is currently looking to hire a NextGen Data Engineer for an engagement at our longstanding and direct Fortune 100 retail client in Portland, OR. We currently have 15+ employees on-site supporting multiple Geo’s with their drive to deploy NextGen platforms & analytics capabilities to support real-time decision making. We’re looking for candidates with 2+ years of experience with data engineering with emphasis on data analytics and reporting. Must possess expert level SQL skills and in addition to strong relational database engineering (Oracle, SQL Server, or Teradata) experience. Hands-on, enterprise level AWS, Spark, Shell and Python experience is required. Snowflake, Airflow, Autosys, GitHub and Jenkins is preferred but all are not required. Ideal consultant will be familiar with agile delivery methodologies including Scrum, SAFe or Extreme Programming. Any knowledge of building solutions with data visualization and reporting tools (Tableau, Cognos) is a nice to have.\n",
      "We’re looking to hire self-starters that can thrive in a highly Agile environment and who possesses excellent interpersonal and communication skills to work effectively with parallel technology teams and the business. If you’re looking to join an organization where there is tremendous growth opportunity, that operates with transparency and with a highly collaborative approach then BICP could be a great career choice for you. We offer excellent compensation and we will reimburse the cost of relocation to Portland (telecommuting is not an option).\n",
      "Please Note: U.S. Citizens and those authorized to work in the U.S. are encouraged to apply. We are unable to sponsor H1-b visas at this time and this is a salaried or W2 position.\n",
      "Salary: $130,000.00 to $150,000.00 /year\n",
      "Experience:\n",
      "AWS: 1 year (Required)\n",
      "Spark: 1 year (Preferred)\n",
      "Python: 1 year (Preferred)\n",
      "SQL: 3 years (Required)\n",
      "Education:\n",
      "Bachelor's (Required)\n",
      "Work authorization:\n",
      "United States (Required)\n"
     ]
    }
   ],
   "source": [
    "Description=driver.find_element_by_id(\"vjs-desc\")\n",
    "print(Description.text)"
   ]
  },
  {
   "cell_type": "markdown",
   "metadata": {},
   "source": [
    "Print/Store first search result"
   ]
  },
  {
   "cell_type": "code",
   "execution_count": 177,
   "metadata": {},
   "outputs": [
    {
     "name": "stdout",
     "output_type": "stream",
     "text": [
      "BICP, a dedicated BI, Analytics & Big Data consulting firm, is currently looking to hire a NextGen Data Engineer for an engagement at our longstanding and direct Fortune 100 retail client in Portland, OR. We currently have 15+ employees on-site supporting multiple Geo’s with their drive to deploy NextGen platforms & analytics capabilities to support real-time decision making. We’re looking for candidates with 2+ years of experience with data engineering with emphasis on data analytics and reporting. Must possess expert level SQL skills and in addition to strong relational database engineering (Oracle, SQL Server, or Teradata) experience. Hands-on, enterprise level AWS, Spark, Shell and Python experience is required. Snowflake, Airflow, Autosys, GitHub and Jenkins is preferred but all are not required. Ideal consultant will be familiar with agile delivery methodologies including Scrum, SAFe or Extreme Programming. Any knowledge of building solutions with data visualization and reporting tools (Tableau, Cognos) is a nice to have.\n",
      "We’re looking to hire self-starters that can thrive in a highly Agile environment and who possesses excellent interpersonal and communication skills to work effectively with parallel technology teams and the business. If you’re looking to join an organization where there is tremendous growth opportunity, that operates with transparency and with a highly collaborative approach then BICP could be a great career choice for you. We offer excellent compensation and we will reimburse the cost of relocation to Portland (telecommuting is not an option).\n",
      "Please Note: U.S. Citizens and those authorized to work in the U.S. are encouraged to apply. We are unable to sponsor H1-b visas at this time and this is a salaried or W2 position.\n",
      "Salary: $130,000.00 to $150,000.00 /year\n",
      "Experience:\n",
      "AWS: 1 year (Required)\n",
      "Spark: 1 year (Preferred)\n",
      "Python: 1 year (Preferred)\n",
      "SQL: 3 years (Required)\n",
      "Education:\n",
      "Bachelor's (Required)\n",
      "Work authorization:\n",
      "United States (Required)\n"
     ]
    }
   ],
   "source": [
    "SearchResultsDict={}\n",
    "SearchResultsDict['text1']=Description.text\n",
    "print(SearchResultsDict['text1'])"
   ]
  },
  {
   "cell_type": "markdown",
   "metadata": {},
   "source": [
    "Move to the next-\n",
    "\n",
    "    Second search result"
   ]
  },
  {
   "cell_type": "code",
   "execution_count": 178,
   "metadata": {},
   "outputs": [
    {
     "name": "stdout",
     "output_type": "stream",
     "text": [
      "Reconciliation Analyst\n"
     ]
    }
   ],
   "source": [
    "linkList=driver.find_elements_by_id('sja2')\n",
    "print(linkList[0].text)"
   ]
  },
  {
   "cell_type": "code",
   "execution_count": 179,
   "metadata": {},
   "outputs": [
    {
     "name": "stdout",
     "output_type": "stream",
     "text": [
      "Be part of a young creative company. Work with cutting-edge technology. Data Science is in the DNA of Aspen Capital and we hope it is in yours as well. Join us as we rewrite the rules of residential and commercial mortgages and real estate.\n",
      "Aspen Capital is a private equity firm based in Portland, OR and New York, NY. We utilize data and technology to enhance business insight, propel growth, transform our investment strategies and business operations, and execute industry-leading deals. The unique Aspen Capital worldview is reflected in a nimble, efficient organizational structure that allows the company to capitalize on market demands, seize business opportunities and excel in a wide range of roles including investment, lending and servicing, acquisitions, management, joint ventures, asset management, recapitalization and advisory services.\n",
      "Aspen Capital is currently seeking a Reconciliation Analyst. This position reviews and reconciles all interim cash collections activity associated with service transfers and reconciling loan balances for service transfers. Reporting into the Boarding Manager, this role develops and performs thorough data integrity reviews for recently acquired loan pools as part of the boarding process. The Reconciliation Analyst uses technical skills along with informed business and data integrity judgment to determine solutions to specific data related issues, at times seeking input from team members and management as needed.\n",
      "RESPONSIBILITIES\n",
      "Reconcile and verify receipt of interim cash collections for each service transfer\n",
      "Reconcile prior servicer advances and unpaid principal loan balances\n",
      "Analyze, ingest, validate, and master prior servicer payment histories from multiple sources in various formats\n",
      "Handle complex situations associated with service transfers, identify root causes, and determine appropriate action\n",
      "Coordinate and communicate externally with sellers and prior servicers to effectively resolve issues\n",
      "Coordinate and communicate with accounting, acquisition, transaction processing, and servicing teams\n",
      "Establish and maintain relationships with reconciliation counterparts\n",
      "Perform ad‐hoc reporting and analysis to accomplish business goals\n",
      "Proactively identify opportunities for efficiencies through the use of automation and reporting\n",
      "Exercise judgment when comparing data discrepancies to determine appropriate course of action and resolution\n",
      "REQUIREMENTS\n",
      "Bachelors degree in business, finance or economics, or equivalent experience in lieu of degree\n",
      "Previous direct loan servicing and reconciliation experience\n",
      "Strong SQL, Excel, Word, & Outlook skills\n",
      "Experience with programming languages & MS Access preferred\n",
      "Strong multi-tasking and time management skills\n",
      "Strong analytical and critical thinking skills\n",
      "Creative research and problem solving skills\n",
      "Strong written and verbal communication skills\n",
      "Ability to work extended hours as needed\n",
      "Aspen Capital offers a great benefits package including medical, dental, and vision insurance, covering 100% of the employee premiums and 50% for dependents. In addition, the company provides life insurance, short & long term disability insurance, 15 days of PTO, 8 holidays, and the option to participate in the 401(k) plan which includes an employer matching contribution up to 4% of salary.\n",
      "Equal Employment Opportunity/M/F/disability/protected veteran status.\n",
      "Job Type: Full-time\n",
      "Experience:\n",
      "loan servicing: 2 years (Preferred)\n",
      "reconciliation: 1 year (Preferred)\n",
      "Education:\n",
      "Bachelor's (Preferred)\n",
      "Work authorization:\n",
      "United States (Required)\n"
     ]
    }
   ],
   "source": [
    "linkList=driver.find_elements_by_class_name(\"jobsearch-SerpJobCard.row.result.clickcard\")\n",
    "len(linkList)\n",
    "\n",
    "linkList[1].click()\n",
    "Description=driver.find_element_by_id(\"vjs-desc\")\n",
    "print(Description.text)"
   ]
  },
  {
   "cell_type": "markdown",
   "metadata": {},
   "source": [
    "Move to the next set of links"
   ]
  },
  {
   "cell_type": "code",
   "execution_count": 180,
   "metadata": {},
   "outputs": [],
   "source": [
    "driver.find_element_by_class_name(\"pn\").click()\n",
    "time.sleep(10)"
   ]
  },
  {
   "cell_type": "markdown",
   "metadata": {},
   "source": [
    "Close dialog box"
   ]
  },
  {
   "cell_type": "code",
   "execution_count": 181,
   "metadata": {},
   "outputs": [],
   "source": [
    "driver.find_element_by_class_name('icl-Icon.icl-Icon--sm.icl-Icon--black.close').click()"
   ]
  },
  {
   "cell_type": "markdown",
   "metadata": {},
   "source": [
    "Pages / jobs"
   ]
  },
  {
   "cell_type": "code",
   "execution_count": 182,
   "metadata": {},
   "outputs": [
    {
     "data": {
      "text/plain": [
       "'Page 2 of 140 jobs'"
      ]
     },
     "execution_count": 182,
     "metadata": {},
     "output_type": "execute_result"
    }
   ],
   "source": [
    "pages=driver.find_element_by_id('searchCount')\n",
    "pages.text"
   ]
  },
  {
   "cell_type": "code",
   "execution_count": 183,
   "metadata": {},
   "outputs": [
    {
     "data": {
      "text/plain": [
       "['2', '140']"
      ]
     },
     "execution_count": 183,
     "metadata": {},
     "output_type": "execute_result"
    }
   ],
   "source": [
    "digits=list(re.findall('\\d+', pages.text))\n",
    "digits"
   ]
  },
  {
   "cell_type": "markdown",
   "metadata": {},
   "source": [
    "*Do a while loop where if a counter is =<140 than continue to click on links. And with each click increase the counter by 1. Meanwhile keep clicking next until 140 is reached.*"
   ]
  },
  {
   "cell_type": "markdown",
   "metadata": {},
   "source": [
    "Stop Selenium"
   ]
  },
  {
   "cell_type": "code",
   "execution_count": 184,
   "metadata": {},
   "outputs": [],
   "source": [
    "driver.close()\n",
    "driver.quit()"
   ]
  },
  {
   "cell_type": "code",
   "execution_count": null,
   "metadata": {},
   "outputs": [],
   "source": []
  }
 ],
 "metadata": {
  "kernelspec": {
   "display_name": "Python 3",
   "language": "python",
   "name": "python3"
  },
  "language_info": {
   "codemirror_mode": {
    "name": "ipython",
    "version": 3
   },
   "file_extension": ".py",
   "mimetype": "text/x-python",
   "name": "python",
   "nbconvert_exporter": "python",
   "pygments_lexer": "ipython3",
   "version": "3.6.5"
  }
 },
 "nbformat": 4,
 "nbformat_minor": 2
}
